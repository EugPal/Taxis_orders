{
 "cells": [
  {
   "cell_type": "markdown",
   "metadata": {
    "toc": true
   },
   "source": [
    "<h1>Содержание<span class=\"tocSkip\"></span></h1>\n",
    "<div class=\"toc\"><ul class=\"toc-item\"><li><span><a href=\"#Подготовка\" data-toc-modified-id=\"Подготовка-1\"><span class=\"toc-item-num\">1&nbsp;&nbsp;</span>Подготовка</a></span></li><li><span><a href=\"#Анализ\" data-toc-modified-id=\"Анализ-2\"><span class=\"toc-item-num\">2&nbsp;&nbsp;</span>Анализ</a></span></li><li><span><a href=\"#Обучение\" data-toc-modified-id=\"Обучение-3\"><span class=\"toc-item-num\">3&nbsp;&nbsp;</span>Обучение</a></span><ul class=\"toc-item\"><li><span><a href=\"#LinearRegression\" data-toc-modified-id=\"LinearRegression-3.1\"><span class=\"toc-item-num\">3.1&nbsp;&nbsp;</span>LinearRegression</a></span></li><li><span><a href=\"#CatBoost\" data-toc-modified-id=\"CatBoost-3.2\"><span class=\"toc-item-num\">3.2&nbsp;&nbsp;</span>CatBoost</a></span></li><li><span><a href=\"#LGBMRegressor\" data-toc-modified-id=\"LGBMRegressor-3.3\"><span class=\"toc-item-num\">3.3&nbsp;&nbsp;</span>LGBMRegressor</a></span></li></ul></li><li><span><a href=\"#Тестирование\" data-toc-modified-id=\"Тестирование-4\"><span class=\"toc-item-num\">4&nbsp;&nbsp;</span>Тестирование</a></span></li><li><span><a href=\"#Вывод\" data-toc-modified-id=\"Вывод-5\"><span class=\"toc-item-num\">5&nbsp;&nbsp;</span>Вывод</a></span></li><li><span><a href=\"#Чек-лист-проверки\" data-toc-modified-id=\"Чек-лист-проверки-6\"><span class=\"toc-item-num\">6&nbsp;&nbsp;</span>Чек-лист проверки</a></span></li></ul></div>"
   ]
  },
  {
   "cell_type": "markdown",
   "metadata": {},
   "source": [
    "#  Прогнозирование заказов такси"
   ]
  },
  {
   "cell_type": "markdown",
   "metadata": {},
   "source": [
    "Компания «Чётенькое такси» собрала исторические данные о заказах такси в аэропортах. Чтобы привлекать больше водителей в период пиковой нагрузки, нужно спрогнозировать количество заказов такси на следующий час. Постройте модель для такого предсказания.\n",
    "\n",
    "Значение метрики *RMSE* на тестовой выборке должно быть не больше 48.\n",
    "\n",
    "Вам нужно:\n",
    "\n",
    "1. Загрузить данные и выполнить их ресемплирование по одному часу.\n",
    "2. Проанализировать данные.\n",
    "3. Обучить разные модели с различными гиперпараметрами. Сделать тестовую выборку размером 10% от исходных данных.\n",
    "4. Проверить данные на тестовой выборке и сделать выводы.\n",
    "\n",
    "\n",
    "Данные лежат в файле `taxi.csv`. Количество заказов находится в столбце `num_orders` (от англ. *number of orders*, «число заказов»)."
   ]
  },
  {
   "cell_type": "markdown",
   "metadata": {},
   "source": [
    "## Подготовка"
   ]
  },
  {
   "cell_type": "code",
   "execution_count": 1,
   "metadata": {},
   "outputs": [],
   "source": [
    "import pandas as pd\n",
    "import numpy as np\n",
    "from sklearn.model_selection import train_test_split\n",
    "from sklearn.linear_model import LinearRegression\n",
    "from sklearn.metrics import mean_absolute_error\n",
    "from statsmodels.tsa.seasonal import seasonal_decompose\n",
    "import matplotlib.pyplot as plt\n",
    "from sklearn.metrics import mean_squared_error\n",
    "from lightgbm import LGBMRegressor\n",
    "from catboost import CatBoostRegressor\n",
    "from sklearn.model_selection import TimeSeriesSplit\n",
    "from sklearn.model_selection import KFold\n",
    "from sklearn.model_selection import GridSearchCV\n",
    "from sklearn.model_selection import cross_val_score"
   ]
  },
  {
   "cell_type": "code",
   "execution_count": 2,
   "metadata": {},
   "outputs": [],
   "source": [
    "try:\n",
    "    df = pd.read_csv('/datasets/taxi.csv', index_col=[0], parse_dates=[0])\n",
    "except:\n",
    "    df = pd.read_csv('https://code.s3.yandex.net/datasets/taxi.csv', index_col=[0], parse_dates=[0])"
   ]
  },
  {
   "cell_type": "code",
   "execution_count": 4,
   "metadata": {},
   "outputs": [
    {
     "name": "stdout",
     "output_type": "stream",
     "text": [
      "True\n"
     ]
    },
    {
     "name": "stderr",
     "output_type": "stream",
     "text": [
      "C:\\Users\\palni\\AppData\\Local\\Temp/ipykernel_18180/1337327708.py:1: FutureWarning: is_monotonic is deprecated and will be removed in a future version. Use is_monotonic_increasing instead.\n",
      "  print(df.index.is_monotonic)\n"
     ]
    }
   ],
   "source": [
    "print(df.index.is_monotonic)"
   ]
  },
  {
   "cell_type": "code",
   "execution_count": 5,
   "metadata": {},
   "outputs": [],
   "source": [
    "df.sort_index(inplace=True)"
   ]
  },
  {
   "cell_type": "code",
   "execution_count": 6,
   "metadata": {},
   "outputs": [
    {
     "name": "stdout",
     "output_type": "stream",
     "text": [
      "<class 'pandas.core.frame.DataFrame'>\n",
      "DatetimeIndex: 26496 entries, 2018-03-01 00:00:00 to 2018-08-31 23:50:00\n",
      "Data columns (total 1 columns):\n",
      " #   Column      Non-Null Count  Dtype\n",
      "---  ------      --------------  -----\n",
      " 0   num_orders  26496 non-null  int64\n",
      "dtypes: int64(1)\n",
      "memory usage: 414.0 KB\n"
     ]
    }
   ],
   "source": [
    "df.info()"
   ]
  },
  {
   "cell_type": "code",
   "execution_count": 7,
   "metadata": {},
   "outputs": [
    {
     "data": {
      "text/html": [
       "<div>\n",
       "<style scoped>\n",
       "    .dataframe tbody tr th:only-of-type {\n",
       "        vertical-align: middle;\n",
       "    }\n",
       "\n",
       "    .dataframe tbody tr th {\n",
       "        vertical-align: top;\n",
       "    }\n",
       "\n",
       "    .dataframe thead th {\n",
       "        text-align: right;\n",
       "    }\n",
       "</style>\n",
       "<table border=\"1\" class=\"dataframe\">\n",
       "  <thead>\n",
       "    <tr style=\"text-align: right;\">\n",
       "      <th></th>\n",
       "      <th>num_orders</th>\n",
       "    </tr>\n",
       "    <tr>\n",
       "      <th>datetime</th>\n",
       "      <th></th>\n",
       "    </tr>\n",
       "  </thead>\n",
       "  <tbody>\n",
       "    <tr>\n",
       "      <th>2018-03-01 00:00:00</th>\n",
       "      <td>9</td>\n",
       "    </tr>\n",
       "    <tr>\n",
       "      <th>2018-03-01 00:10:00</th>\n",
       "      <td>14</td>\n",
       "    </tr>\n",
       "    <tr>\n",
       "      <th>2018-03-01 00:20:00</th>\n",
       "      <td>28</td>\n",
       "    </tr>\n",
       "    <tr>\n",
       "      <th>2018-03-01 00:30:00</th>\n",
       "      <td>20</td>\n",
       "    </tr>\n",
       "    <tr>\n",
       "      <th>2018-03-01 00:40:00</th>\n",
       "      <td>32</td>\n",
       "    </tr>\n",
       "  </tbody>\n",
       "</table>\n",
       "</div>"
      ],
      "text/plain": [
       "                     num_orders\n",
       "datetime                       \n",
       "2018-03-01 00:00:00           9\n",
       "2018-03-01 00:10:00          14\n",
       "2018-03-01 00:20:00          28\n",
       "2018-03-01 00:30:00          20\n",
       "2018-03-01 00:40:00          32"
      ]
     },
     "execution_count": 7,
     "metadata": {},
     "output_type": "execute_result"
    }
   ],
   "source": [
    "df.head()"
   ]
  },
  {
   "cell_type": "code",
   "execution_count": 8,
   "metadata": {},
   "outputs": [
    {
     "data": {
      "text/plain": [
       "num_orders    0.0\n",
       "dtype: float64"
      ]
     },
     "execution_count": 8,
     "metadata": {},
     "output_type": "execute_result"
    }
   ],
   "source": [
    "df.isna().sum()/len(df)*100"
   ]
  },
  {
   "cell_type": "code",
   "execution_count": 9,
   "metadata": {},
   "outputs": [
    {
     "name": "stdout",
     "output_type": "stream",
     "text": [
      "num_orders    2.026721\n",
      "dtype: float64\n"
     ]
    }
   ],
   "source": [
    "#check\n",
    "#for i in df.columns:\n",
    "print(df.loc[df['num_orders'] == 0].count()/len(df)*100)"
   ]
  },
  {
   "cell_type": "code",
   "execution_count": 10,
   "metadata": {},
   "outputs": [
    {
     "data": {
      "text/html": [
       "<div>\n",
       "<style scoped>\n",
       "    .dataframe tbody tr th:only-of-type {\n",
       "        vertical-align: middle;\n",
       "    }\n",
       "\n",
       "    .dataframe tbody tr th {\n",
       "        vertical-align: top;\n",
       "    }\n",
       "\n",
       "    .dataframe thead th {\n",
       "        text-align: right;\n",
       "    }\n",
       "</style>\n",
       "<table border=\"1\" class=\"dataframe\">\n",
       "  <thead>\n",
       "    <tr style=\"text-align: right;\">\n",
       "      <th></th>\n",
       "      <th>num_orders</th>\n",
       "    </tr>\n",
       "    <tr>\n",
       "      <th>datetime</th>\n",
       "      <th></th>\n",
       "    </tr>\n",
       "  </thead>\n",
       "  <tbody>\n",
       "    <tr>\n",
       "      <th>2018-03-01 05:20:00</th>\n",
       "      <td>0</td>\n",
       "    </tr>\n",
       "    <tr>\n",
       "      <th>2018-03-01 05:40:00</th>\n",
       "      <td>0</td>\n",
       "    </tr>\n",
       "    <tr>\n",
       "      <th>2018-03-01 05:50:00</th>\n",
       "      <td>0</td>\n",
       "    </tr>\n",
       "    <tr>\n",
       "      <th>2018-03-01 06:00:00</th>\n",
       "      <td>0</td>\n",
       "    </tr>\n",
       "    <tr>\n",
       "      <th>2018-03-01 06:10:00</th>\n",
       "      <td>0</td>\n",
       "    </tr>\n",
       "  </tbody>\n",
       "</table>\n",
       "</div>"
      ],
      "text/plain": [
       "                     num_orders\n",
       "datetime                       \n",
       "2018-03-01 05:20:00           0\n",
       "2018-03-01 05:40:00           0\n",
       "2018-03-01 05:50:00           0\n",
       "2018-03-01 06:00:00           0\n",
       "2018-03-01 06:10:00           0"
      ]
     },
     "execution_count": 10,
     "metadata": {},
     "output_type": "execute_result"
    }
   ],
   "source": [
    "df[df['num_orders']==0].head()"
   ]
  },
  {
   "cell_type": "code",
   "execution_count": 11,
   "metadata": {},
   "outputs": [
    {
     "data": {
      "image/png": "[encoded data removed]",
      "text/plain": [
       "<Figure size 432x288 with 1 Axes>"
      ]
     },
     "metadata": {
      "needs_background": "light"
     },
     "output_type": "display_data"
    }
   ],
   "source": [
    "df.plot();"
   ]
  },
  {
   "cell_type": "code",
   "execution_count": 12,
   "metadata": {},
   "outputs": [],
   "source": [
    "df = df.resample('1H').sum()"
   ]
  },
  {
   "cell_type": "code",
   "execution_count": 13,
   "metadata": {},
   "outputs": [
    {
     "name": "stdout",
     "output_type": "stream",
     "text": [
      "<class 'pandas.core.frame.DataFrame'>\n",
      "DatetimeIndex: 4416 entries, 2018-03-01 00:00:00 to 2018-08-31 23:00:00\n",
      "Freq: H\n",
      "Data columns (total 1 columns):\n",
      " #   Column      Non-Null Count  Dtype\n",
      "---  ------      --------------  -----\n",
      " 0   num_orders  4416 non-null   int64\n",
      "dtypes: int64(1)\n",
      "memory usage: 69.0 KB\n"
     ]
    }
   ],
   "source": [
    "df.info()"
   ]
  },
  {
   "cell_type": "code",
   "execution_count": 14,
   "metadata": {},
   "outputs": [
    {
     "data": {
      "text/html": [
       "<div>\n",
       "<style scoped>\n",
       "    .dataframe tbody tr th:only-of-type {\n",
       "        vertical-align: middle;\n",
       "    }\n",
       "\n",
       "    .dataframe tbody tr th {\n",
       "        vertical-align: top;\n",
       "    }\n",
       "\n",
       "    .dataframe thead th {\n",
       "        text-align: right;\n",
       "    }\n",
       "</style>\n",
       "<table border=\"1\" class=\"dataframe\">\n",
       "  <thead>\n",
       "    <tr style=\"text-align: right;\">\n",
       "      <th></th>\n",
       "      <th>num_orders</th>\n",
       "    </tr>\n",
       "    <tr>\n",
       "      <th>datetime</th>\n",
       "      <th></th>\n",
       "    </tr>\n",
       "  </thead>\n",
       "  <tbody>\n",
       "    <tr>\n",
       "      <th>2018-03-01 00:00:00</th>\n",
       "      <td>124</td>\n",
       "    </tr>\n",
       "    <tr>\n",
       "      <th>2018-03-01 01:00:00</th>\n",
       "      <td>85</td>\n",
       "    </tr>\n",
       "    <tr>\n",
       "      <th>2018-03-01 02:00:00</th>\n",
       "      <td>71</td>\n",
       "    </tr>\n",
       "    <tr>\n",
       "      <th>2018-03-01 03:00:00</th>\n",
       "      <td>66</td>\n",
       "    </tr>\n",
       "    <tr>\n",
       "      <th>2018-03-01 04:00:00</th>\n",
       "      <td>43</td>\n",
       "    </tr>\n",
       "  </tbody>\n",
       "</table>\n",
       "</div>"
      ],
      "text/plain": [
       "                     num_orders\n",
       "datetime                       \n",
       "2018-03-01 00:00:00         124\n",
       "2018-03-01 01:00:00          85\n",
       "2018-03-01 02:00:00          71\n",
       "2018-03-01 03:00:00          66\n",
       "2018-03-01 04:00:00          43"
      ]
     },
     "execution_count": 14,
     "metadata": {},
     "output_type": "execute_result"
    }
   ],
   "source": [
    "df.head()"
   ]
  },
  {
   "cell_type": "code",
   "execution_count": 15,
   "metadata": {},
   "outputs": [
    {
     "data": {
      "image/png": "[encoded data removed]",
      "text/plain": [
       "<Figure size 432x288 with 1 Axes>"
      ]
     },
     "metadata": {
      "needs_background": "light"
     },
     "output_type": "display_data"
    }
   ],
   "source": [
    "df.plot();"
   ]
  },
  {
   "cell_type": "markdown",
   "metadata": {},
   "source": [
    "**Вывод:**\n",
    "Данные подготовлены, выполнено ресемплирование по одному часу. Пропусков или аномальных значений не обнаружено."
   ]
  },
  {
   "cell_type": "markdown",
   "metadata": {},
   "source": [
    "## Анализ"
   ]
  },
  {
   "cell_type": "code",
   "execution_count": 16,
   "metadata": {},
   "outputs": [
    {
     "data": {
      "image/png": "[encoded data removed]",
      "text/plain": [
       "<Figure size 576x1008 with 3 Axes>"
      ]
     },
     "metadata": {
      "needs_background": "light"
     },
     "output_type": "display_data"
    }
   ],
   "source": [
    "decompose = seasonal_decompose(df)\n",
    "\n",
    "plt.figure(figsize=(8, 14))\n",
    "plt.subplot(311)\n",
    "\n",
    "decompose.trend.plot(ax=plt.gca())\n",
    "plt.title('Trend')\n",
    "plt.subplot(312)\n",
    "\n",
    "decompose.seasonal['2018-04-10':'2018-04-11'].plot(ax=plt.gca())\n",
    "plt.title('Seasonality')\n",
    "plt.subplot(313)\n",
    "\n",
    "decompose.resid.plot(ax=plt.gca())\n",
    "plt.title('Residuals')\n",
    "\n",
    "plt.tight_layout()"
   ]
  },
  {
   "cell_type": "markdown",
   "metadata": {},
   "source": [
    "**Вывод**"
   ]
  },
  {
   "cell_type": "markdown",
   "metadata": {},
   "source": [
    "- Данные показывают количество заказов такси с 01.03.2018 по 31.08.08.2018, данные разбиты по часам\n",
    "- Монотонность данных выполняется, хронологический порядок верный\n",
    "- Ряд нестационарный, скользящее среднее изменяется\n",
    "- Количество заказов плавно увеличивается с начала лета, скорее всего это означает развитие компании\n",
    "- Ожидаемо больше заказов в часы пик и ближе к ночи (когда не ходит общественный траспорт)"
   ]
  },
  {
   "cell_type": "markdown",
   "metadata": {},
   "source": [
    "**Скользящее среднее**"
   ]
  },
  {
   "cell_type": "code",
   "execution_count": 17,
   "metadata": {},
   "outputs": [
    {
     "data": {
      "image/png": "[encoded data removed]",
      "text/plain": [
       "<Figure size 432x288 with 1 Axes>"
      ]
     },
     "metadata": {
      "needs_background": "light"
     },
     "output_type": "display_data"
    }
   ],
   "source": [
    "df['rolling_mean'] = df.rolling(20).mean()\n",
    "df.plot();"
   ]
  },
  {
   "cell_type": "markdown",
   "metadata": {},
   "source": [
    "## Обучение"
   ]
  },
  {
   "cell_type": "markdown",
   "metadata": {},
   "source": [
    "**Создание признаков**"
   ]
  },
  {
   "cell_type": "code",
   "execution_count": 18,
   "metadata": {},
   "outputs": [
    {
     "data": {
      "text/html": [
       "<div>\n",
       "<style scoped>\n",
       "    .dataframe tbody tr th:only-of-type {\n",
       "        vertical-align: middle;\n",
       "    }\n",
       "\n",
       "    .dataframe tbody tr th {\n",
       "        vertical-align: top;\n",
       "    }\n",
       "\n",
       "    .dataframe thead th {\n",
       "        text-align: right;\n",
       "    }\n",
       "</style>\n",
       "<table border=\"1\" class=\"dataframe\">\n",
       "  <thead>\n",
       "    <tr style=\"text-align: right;\">\n",
       "      <th></th>\n",
       "      <th>num_orders</th>\n",
       "      <th>rolling_mean</th>\n",
       "      <th>dayofweek</th>\n",
       "      <th>lag_1</th>\n",
       "      <th>lag_2</th>\n",
       "      <th>lag_3</th>\n",
       "      <th>lag_4</th>\n",
       "      <th>lag_5</th>\n",
       "      <th>lag_6</th>\n",
       "      <th>lag_7</th>\n",
       "      <th>...</th>\n",
       "      <th>lag_16</th>\n",
       "      <th>lag_17</th>\n",
       "      <th>lag_18</th>\n",
       "      <th>lag_19</th>\n",
       "      <th>lag_20</th>\n",
       "      <th>lag_21</th>\n",
       "      <th>lag_22</th>\n",
       "      <th>lag_23</th>\n",
       "      <th>lag_24</th>\n",
       "      <th>lag_25</th>\n",
       "    </tr>\n",
       "    <tr>\n",
       "      <th>datetime</th>\n",
       "      <th></th>\n",
       "      <th></th>\n",
       "      <th></th>\n",
       "      <th></th>\n",
       "      <th></th>\n",
       "      <th></th>\n",
       "      <th></th>\n",
       "      <th></th>\n",
       "      <th></th>\n",
       "      <th></th>\n",
       "      <th></th>\n",
       "      <th></th>\n",
       "      <th></th>\n",
       "      <th></th>\n",
       "      <th></th>\n",
       "      <th></th>\n",
       "      <th></th>\n",
       "      <th></th>\n",
       "      <th></th>\n",
       "      <th></th>\n",
       "      <th></th>\n",
       "    </tr>\n",
       "  </thead>\n",
       "  <tbody>\n",
       "    <tr>\n",
       "      <th>2018-03-01 00:00:00</th>\n",
       "      <td>124</td>\n",
       "      <td>NaN</td>\n",
       "      <td>3</td>\n",
       "      <td>NaN</td>\n",
       "      <td>NaN</td>\n",
       "      <td>NaN</td>\n",
       "      <td>NaN</td>\n",
       "      <td>NaN</td>\n",
       "      <td>NaN</td>\n",
       "      <td>NaN</td>\n",
       "      <td>...</td>\n",
       "      <td>NaN</td>\n",
       "      <td>NaN</td>\n",
       "      <td>NaN</td>\n",
       "      <td>NaN</td>\n",
       "      <td>NaN</td>\n",
       "      <td>NaN</td>\n",
       "      <td>NaN</td>\n",
       "      <td>NaN</td>\n",
       "      <td>NaN</td>\n",
       "      <td>NaN</td>\n",
       "    </tr>\n",
       "    <tr>\n",
       "      <th>2018-03-01 01:00:00</th>\n",
       "      <td>85</td>\n",
       "      <td>NaN</td>\n",
       "      <td>3</td>\n",
       "      <td>124.0</td>\n",
       "      <td>NaN</td>\n",
       "      <td>NaN</td>\n",
       "      <td>NaN</td>\n",
       "      <td>NaN</td>\n",
       "      <td>NaN</td>\n",
       "      <td>NaN</td>\n",
       "      <td>...</td>\n",
       "      <td>NaN</td>\n",
       "      <td>NaN</td>\n",
       "      <td>NaN</td>\n",
       "      <td>NaN</td>\n",
       "      <td>NaN</td>\n",
       "      <td>NaN</td>\n",
       "      <td>NaN</td>\n",
       "      <td>NaN</td>\n",
       "      <td>NaN</td>\n",
       "      <td>NaN</td>\n",
       "    </tr>\n",
       "    <tr>\n",
       "      <th>2018-03-01 02:00:00</th>\n",
       "      <td>71</td>\n",
       "      <td>NaN</td>\n",
       "      <td>3</td>\n",
       "      <td>85.0</td>\n",
       "      <td>124.0</td>\n",
       "      <td>NaN</td>\n",
       "      <td>NaN</td>\n",
       "      <td>NaN</td>\n",
       "      <td>NaN</td>\n",
       "      <td>NaN</td>\n",
       "      <td>...</td>\n",
       "      <td>NaN</td>\n",
       "      <td>NaN</td>\n",
       "      <td>NaN</td>\n",
       "      <td>NaN</td>\n",
       "      <td>NaN</td>\n",
       "      <td>NaN</td>\n",
       "      <td>NaN</td>\n",
       "      <td>NaN</td>\n",
       "      <td>NaN</td>\n",
       "      <td>NaN</td>\n",
       "    </tr>\n",
       "    <tr>\n",
       "      <th>2018-03-01 03:00:00</th>\n",
       "      <td>66</td>\n",
       "      <td>NaN</td>\n",
       "      <td>3</td>\n",
       "      <td>71.0</td>\n",
       "      <td>85.0</td>\n",
       "      <td>124.0</td>\n",
       "      <td>NaN</td>\n",
       "      <td>NaN</td>\n",
       "      <td>NaN</td>\n",
       "      <td>NaN</td>\n",
       "      <td>...</td>\n",
       "      <td>NaN</td>\n",
       "      <td>NaN</td>\n",
       "      <td>NaN</td>\n",
       "      <td>NaN</td>\n",
       "      <td>NaN</td>\n",
       "      <td>NaN</td>\n",
       "      <td>NaN</td>\n",
       "      <td>NaN</td>\n",
       "      <td>NaN</td>\n",
       "      <td>NaN</td>\n",
       "    </tr>\n",
       "    <tr>\n",
       "      <th>2018-03-01 04:00:00</th>\n",
       "      <td>43</td>\n",
       "      <td>NaN</td>\n",
       "      <td>3</td>\n",
       "      <td>66.0</td>\n",
       "      <td>71.0</td>\n",
       "      <td>85.0</td>\n",
       "      <td>124.0</td>\n",
       "      <td>NaN</td>\n",
       "      <td>NaN</td>\n",
       "      <td>NaN</td>\n",
       "      <td>...</td>\n",
       "      <td>NaN</td>\n",
       "      <td>NaN</td>\n",
       "      <td>NaN</td>\n",
       "      <td>NaN</td>\n",
       "      <td>NaN</td>\n",
       "      <td>NaN</td>\n",
       "      <td>NaN</td>\n",
       "      <td>NaN</td>\n",
       "      <td>NaN</td>\n",
       "      <td>NaN</td>\n",
       "    </tr>\n",
       "  </tbody>\n",
       "</table>\n",
       "<p>5 rows × 28 columns</p>\n",
       "</div>"
      ],
      "text/plain": [
       "                     num_orders  rolling_mean  dayofweek  lag_1  lag_2  lag_3  \\\n",
       "datetime                                                                        \n",
       "2018-03-01 00:00:00         124           NaN          3    NaN    NaN    NaN   \n",
       "2018-03-01 01:00:00          85           NaN          3  124.0    NaN    NaN   \n",
       "2018-03-01 02:00:00          71           NaN          3   85.0  124.0    NaN   \n",
       "2018-03-01 03:00:00          66           NaN          3   71.0   85.0  124.0   \n",
       "2018-03-01 04:00:00          43           NaN          3   66.0   71.0   85.0   \n",
       "\n",
       "                     lag_4  lag_5  lag_6  lag_7  ...  lag_16  lag_17  lag_18  \\\n",
       "datetime                                         ...                           \n",
       "2018-03-01 00:00:00    NaN    NaN    NaN    NaN  ...     NaN     NaN     NaN   \n",
       "2018-03-01 01:00:00    NaN    NaN    NaN    NaN  ...     NaN     NaN     NaN   \n",
       "2018-03-01 02:00:00    NaN    NaN    NaN    NaN  ...     NaN     NaN     NaN   \n",
       "2018-03-01 03:00:00    NaN    NaN    NaN    NaN  ...     NaN     NaN     NaN   \n",
       "2018-03-01 04:00:00  124.0    NaN    NaN    NaN  ...     NaN     NaN     NaN   \n",
       "\n",
       "                     lag_19  lag_20  lag_21  lag_22  lag_23  lag_24  lag_25  \n",
       "datetime                                                                     \n",
       "2018-03-01 00:00:00     NaN     NaN     NaN     NaN     NaN     NaN     NaN  \n",
       "2018-03-01 01:00:00     NaN     NaN     NaN     NaN     NaN     NaN     NaN  \n",
       "2018-03-01 02:00:00     NaN     NaN     NaN     NaN     NaN     NaN     NaN  \n",
       "2018-03-01 03:00:00     NaN     NaN     NaN     NaN     NaN     NaN     NaN  \n",
       "2018-03-01 04:00:00     NaN     NaN     NaN     NaN     NaN     NaN     NaN  \n",
       "\n",
       "[5 rows x 28 columns]"
      ]
     },
     "metadata": {},
     "output_type": "display_data"
    }
   ],
   "source": [
    "def make_features(df, max_lag, rolling_mean_size):\n",
    "#    df['year'] = df.index.year\n",
    "#    df['month'] = df.index.month\n",
    "#    df['day'] = df.index.day\n",
    "    df['dayofweek'] = df.index.dayofweek\n",
    "    \n",
    "    for lag in range(1, max_lag + 1):\n",
    "        df['lag_{}'.format(lag)] = df['num_orders'].shift(lag)\n",
    "\n",
    "    df['rolling_mean'] = df['num_orders'].shift().rolling(window=rolling_mean_size).mean()\n",
    "\n",
    "make_features(df, 25, 25)\n",
    "display(df.head())"
   ]
  },
  {
   "cell_type": "markdown",
   "metadata": {},
   "source": [
    "<s><div class=\"alert alert-danger\">\n",
    "<b>1 Комментарий ревьюера ❌:</b> \n",
    "    \n",
    "Некоторые признаки для обучения не подходят:\n",
    "* `year` - константный признак. У нас данные только за 2018 год\n",
    "* `month` содержит только уникальные значения, а тренд отслеживается и без этого признака\n",
    "* Сам по себе `day` вряд ли влияет на кол-во заказов (есть ли тенденция на увеличение/уменьшение числа заказов в течение месяца?). `dayofweek` кажется более полезным (стоит изучить неделю)"
   ]
  },
  {
   "cell_type": "markdown",
   "metadata": {},
   "source": [
    "**Разделение выборок**"
   ]
  },
  {
   "cell_type": "code",
   "execution_count": 19,
   "metadata": {},
   "outputs": [],
   "source": [
    "train, test = train_test_split(df, shuffle=False, test_size=0.1)\n",
    "\n",
    "train = train.dropna()\n",
    "\n",
    "train_features = train.drop(['num_orders'], axis=1)\n",
    "train_target = train['num_orders']\n",
    "\n",
    "test_features = test.drop(['num_orders'], axis=1)\n",
    "test_target = test['num_orders']"
   ]
  },
  {
   "cell_type": "markdown",
   "metadata": {},
   "source": [
    "### LinearRegression"
   ]
  },
  {
   "cell_type": "code",
   "execution_count": 20,
   "metadata": {},
   "outputs": [
    {
     "name": "stdout",
     "output_type": "stream",
     "text": [
      "RMSE обучающей выборки: 25.920717689759236\n"
     ]
    }
   ],
   "source": [
    "linreg_model = LinearRegression()\n",
    "\n",
    "linreg_model.fit(train_features, train_target)\n",
    "train_predict=linreg_model.predict(train_features)\n",
    "\n",
    "Linearresult=mean_squared_error(train_target, train_predict, squared=False)\n",
    "print(\"RMSE обучающей выборки:\", Linearresult)"
   ]
  },
  {
   "cell_type": "markdown",
   "metadata": {},
   "source": [
    "### CatBoost"
   ]
  },
  {
   "cell_type": "code",
   "execution_count": 21,
   "metadata": {},
   "outputs": [
    {
     "name": "stderr",
     "output_type": "stream",
     "text": [
      "C:\\Users\\palni\\practicum\\practicum_env\\lib\\site-packages\\catboost\\core.py:1171: FutureWarning: iteritems is deprecated and will be removed in a future version. Use .items instead.\n",
      "  self._init_pool(data, label, cat_features, text_features, embedding_features, pairs, weight, group_id, group_weight, subgroup_id, pairs_weight, baseline, timestamp, feature_names, thread_count)\n"
     ]
    },
    {
     "name": "stdout",
     "output_type": "stream",
     "text": [
      "0:\tlearn: 29.1368061\ttotal: 164ms\tremaining: 1.47s\n",
      "1:\tlearn: 28.5709170\ttotal: 165ms\tremaining: 660ms\n",
      "2:\tlearn: 27.9474005\ttotal: 166ms\tremaining: 388ms\n",
      "3:\tlearn: 27.4352274\ttotal: 168ms\tremaining: 252ms\n",
      "4:\tlearn: 26.9501630\ttotal: 169ms\tremaining: 169ms\n",
      "5:\tlearn: 26.4702360\ttotal: 171ms\tremaining: 114ms\n",
      "6:\tlearn: 26.0112728\ttotal: 172ms\tremaining: 73.8ms\n",
      "7:\tlearn: 25.5474987\ttotal: 174ms\tremaining: 43.4ms\n",
      "8:\tlearn: 25.2003902\ttotal: 175ms\tremaining: 19.5ms\n",
      "9:\tlearn: 24.7808200\ttotal: 177ms\tremaining: 0us\n",
      "0:\tlearn: 29.7174318\ttotal: 6.99ms\tremaining: 62.9ms\n",
      "1:\tlearn: 29.1374510\ttotal: 8.72ms\tremaining: 34.9ms\n",
      "2:\tlearn: 28.5800301\ttotal: 10.4ms\tremaining: 24.2ms\n",
      "3:\tlearn: 28.0580008\ttotal: 11.9ms\tremaining: 17.9ms\n",
      "4:\tlearn: 27.5306860\ttotal: 13.4ms\tremaining: 13.4ms\n",
      "5:\tlearn: 27.0614884\ttotal: 14.9ms\tremaining: 9.92ms\n",
      "6:\tlearn: 26.6094472\ttotal: 16.4ms\tremaining: 7.04ms\n",
      "7:\tlearn: 26.1761353\ttotal: 18ms\tremaining: 4.5ms\n",
      "8:\tlearn: 25.8552595\ttotal: 19.6ms\tremaining: 2.17ms\n",
      "9:\tlearn: 25.4359299\ttotal: 21.1ms\tremaining: 0us\n",
      "0:\tlearn: 31.3013078\ttotal: 2.23ms\tremaining: 20.1ms\n",
      "1:\tlearn: 30.6763753\ttotal: 4.26ms\tremaining: 17ms\n",
      "2:\tlearn: 30.0445615\ttotal: 6.26ms\tremaining: 14.6ms\n",
      "3:\tlearn: 29.4642950\ttotal: 8.2ms\tremaining: 12.3ms\n",
      "4:\tlearn: 28.9413920\ttotal: 10ms\tremaining: 10ms\n",
      "5:\tlearn: 28.4280419\ttotal: 11.9ms\tremaining: 7.9ms\n",
      "6:\tlearn: 28.0206951\ttotal: 13.8ms\tremaining: 5.9ms\n",
      "7:\tlearn: 27.5751596\ttotal: 15.6ms\tremaining: 3.9ms\n",
      "8:\tlearn: 27.1133478\ttotal: 17.6ms\tremaining: 1.95ms\n",
      "9:\tlearn: 26.6906041\ttotal: 19.5ms\tremaining: 0us\n",
      "0:\tlearn: 32.6426925\ttotal: 2.6ms\tremaining: 23.4ms\n",
      "1:\tlearn: 32.0116998\ttotal: 4.91ms\tremaining: 19.6ms\n",
      "2:\tlearn: 31.3670731\ttotal: 7.05ms\tremaining: 16.5ms\n",
      "3:\tlearn: 30.7624077\ttotal: 9.04ms\tremaining: 13.6ms\n",
      "4:\tlearn: 30.2061392\ttotal: 11.1ms\tremaining: 11.1ms\n",
      "5:\tlearn: 29.6759942\ttotal: 13ms\tremaining: 8.69ms\n",
      "6:\tlearn: 29.1818091\ttotal: 15.1ms\tremaining: 6.48ms\n",
      "7:\tlearn: 28.7119706\ttotal: 17ms\tremaining: 4.26ms\n",
      "8:\tlearn: 28.2703460\ttotal: 19.1ms\tremaining: 2.12ms\n",
      "9:\tlearn: 27.8776617\ttotal: 21ms\tremaining: 0us\n",
      "0:\tlearn: 34.0399139\ttotal: 2.47ms\tremaining: 22.2ms\n"
     ]
    },
    {
     "name": "stderr",
     "output_type": "stream",
     "text": [
      "C:\\Users\\palni\\practicum\\practicum_env\\lib\\site-packages\\catboost\\core.py:1171: FutureWarning: iteritems is deprecated and will be removed in a future version. Use .items instead.\n",
      "  self._init_pool(data, label, cat_features, text_features, embedding_features, pairs, weight, group_id, group_weight, subgroup_id, pairs_weight, baseline, timestamp, feature_names, thread_count)\n",
      "C:\\Users\\palni\\practicum\\practicum_env\\lib\\site-packages\\catboost\\core.py:1171: FutureWarning: iteritems is deprecated and will be removed in a future version. Use .items instead.\n",
      "  self._init_pool(data, label, cat_features, text_features, embedding_features, pairs, weight, group_id, group_weight, subgroup_id, pairs_weight, baseline, timestamp, feature_names, thread_count)\n",
      "C:\\Users\\palni\\practicum\\practicum_env\\lib\\site-packages\\catboost\\core.py:1171: FutureWarning: iteritems is deprecated and will be removed in a future version. Use .items instead.\n",
      "  self._init_pool(data, label, cat_features, text_features, embedding_features, pairs, weight, group_id, group_weight, subgroup_id, pairs_weight, baseline, timestamp, feature_names, thread_count)\n",
      "C:\\Users\\palni\\practicum\\practicum_env\\lib\\site-packages\\catboost\\core.py:1171: FutureWarning: iteritems is deprecated and will be removed in a future version. Use .items instead.\n",
      "  self._init_pool(data, label, cat_features, text_features, embedding_features, pairs, weight, group_id, group_weight, subgroup_id, pairs_weight, baseline, timestamp, feature_names, thread_count)\n",
      "C:\\Users\\palni\\practicum\\practicum_env\\lib\\site-packages\\catboost\\core.py:1171: FutureWarning: iteritems is deprecated and will be removed in a future version. Use .items instead.\n",
      "  self._init_pool(data, label, cat_features, text_features, embedding_features, pairs, weight, group_id, group_weight, subgroup_id, pairs_weight, baseline, timestamp, feature_names, thread_count)\n"
     ]
    },
    {
     "name": "stdout",
     "output_type": "stream",
     "text": [
      "1:\tlearn: 33.3609504\ttotal: 5.02ms\tremaining: 20.1ms\n",
      "2:\tlearn: 32.7192146\ttotal: 7.42ms\tremaining: 17.3ms\n",
      "3:\tlearn: 32.0855614\ttotal: 9.62ms\tremaining: 14.4ms\n",
      "4:\tlearn: 31.5042109\ttotal: 11.9ms\tremaining: 11.9ms\n",
      "5:\tlearn: 30.9197885\ttotal: 14.1ms\tremaining: 9.43ms\n",
      "6:\tlearn: 30.3963564\ttotal: 22.8ms\tremaining: 9.78ms\n",
      "7:\tlearn: 29.8953899\ttotal: 25.7ms\tremaining: 6.42ms\n",
      "8:\tlearn: 29.4492040\ttotal: 28ms\tremaining: 3.11ms\n",
      "9:\tlearn: 29.0083856\ttotal: 31.3ms\tremaining: 0us\n",
      "0:\tlearn: 28.6040950\ttotal: 1.78ms\tremaining: 16ms\n",
      "1:\tlearn: 27.4883517\ttotal: 3.09ms\tremaining: 12.4ms\n",
      "2:\tlearn: 26.4615434\ttotal: 4.52ms\tremaining: 10.5ms\n",
      "3:\tlearn: 25.5896181\ttotal: 5.77ms\tremaining: 8.66ms\n",
      "4:\tlearn: 24.7677819\ttotal: 7.07ms\tremaining: 7.07ms\n",
      "5:\tlearn: 24.1219328\ttotal: 8.39ms\tremaining: 5.6ms\n",
      "6:\tlearn: 23.4392991\ttotal: 9.74ms\tremaining: 4.17ms\n",
      "7:\tlearn: 22.7769302\ttotal: 11.1ms\tremaining: 2.78ms\n",
      "8:\tlearn: 22.1835521\ttotal: 12.5ms\tremaining: 1.39ms\n",
      "9:\tlearn: 21.6514629\ttotal: 13.9ms\tremaining: 0us\n",
      "0:\tlearn: 29.1241461\ttotal: 1.8ms\tremaining: 16.2ms\n",
      "1:\tlearn: 28.0418467\ttotal: 3.4ms\tremaining: 13.6ms\n",
      "2:\tlearn: 27.0601665\ttotal: 4.96ms\tremaining: 11.6ms\n",
      "3:\tlearn: 26.1222121\ttotal: 6.43ms\tremaining: 9.64ms\n",
      "4:\tlearn: 25.3267326\ttotal: 7.95ms\tremaining: 7.95ms\n",
      "5:\tlearn: 24.6223148\ttotal: 9.47ms\tremaining: 6.31ms\n",
      "6:\tlearn: 24.0625919\ttotal: 11ms\tremaining: 4.71ms\n",
      "7:\tlearn: 23.4851990\ttotal: 12.5ms\tremaining: 3.11ms\n",
      "8:\tlearn: 23.0465437\ttotal: 14ms\tremaining: 1.55ms\n",
      "9:\tlearn: 22.6519028\ttotal: 15.5ms\tremaining: 0us\n",
      "0:\tlearn: 30.6027218\ttotal: 2.06ms\tremaining: 18.6ms\n",
      "1:\tlearn: 29.4730124\ttotal: 3.95ms\tremaining: 15.8ms\n",
      "2:\tlearn: 28.3636366\ttotal: 5.71ms\tremaining: 13.3ms\n",
      "3:\tlearn: 27.4205023\ttotal: 7.45ms\tremaining: 11.2ms\n",
      "4:\tlearn: 26.6277425\ttotal: 9.21ms\tremaining: 9.21ms\n",
      "5:\tlearn: 25.9134997\ttotal: 10.9ms\tremaining: 7.28ms\n",
      "6:\tlearn: 25.2609361\ttotal: 12.6ms\tremaining: 5.39ms\n",
      "7:\tlearn: 24.7074763\ttotal: 14.2ms\tremaining: 3.55ms\n",
      "8:\tlearn: 24.1364476\ttotal: 15.9ms\tremaining: 1.77ms\n",
      "9:\tlearn: 23.7012286\ttotal: 17.7ms\tremaining: 0us\n",
      "0:\tlearn: 31.9171593\ttotal: 2.31ms\tremaining: 20.8ms\n",
      "1:\tlearn: 30.7432389\ttotal: 4.39ms\tremaining: 17.6ms\n",
      "2:\tlearn: 29.6270197\ttotal: 6.47ms\tremaining: 15.1ms\n",
      "3:\tlearn: 28.6223594\ttotal: 8.37ms\tremaining: 12.6ms\n",
      "4:\tlearn: 27.7470849\ttotal: 10.3ms\tremaining: 10.3ms\n",
      "5:\tlearn: 26.9725019\ttotal: 12.2ms\tremaining: 8.15ms\n",
      "6:\tlearn: 26.3095457\ttotal: 14.2ms\tremaining: 6.09ms\n",
      "7:\tlearn: 25.7355148\ttotal: 16.2ms\tremaining: 4.04ms\n",
      "8:\tlearn: 25.2391109\ttotal: 18.1ms\tremaining: 2.02ms\n",
      "9:\tlearn: 24.7591681\ttotal: 20.1ms\tremaining: 0us\n"
     ]
    },
    {
     "name": "stderr",
     "output_type": "stream",
     "text": [
      "C:\\Users\\palni\\practicum\\practicum_env\\lib\\site-packages\\catboost\\core.py:1171: FutureWarning: iteritems is deprecated and will be removed in a future version. Use .items instead.\n",
      "  self._init_pool(data, label, cat_features, text_features, embedding_features, pairs, weight, group_id, group_weight, subgroup_id, pairs_weight, baseline, timestamp, feature_names, thread_count)\n",
      "C:\\Users\\palni\\practicum\\practicum_env\\lib\\site-packages\\catboost\\core.py:1171: FutureWarning: iteritems is deprecated and will be removed in a future version. Use .items instead.\n",
      "  self._init_pool(data, label, cat_features, text_features, embedding_features, pairs, weight, group_id, group_weight, subgroup_id, pairs_weight, baseline, timestamp, feature_names, thread_count)\n",
      "C:\\Users\\palni\\practicum\\practicum_env\\lib\\site-packages\\catboost\\core.py:1171: FutureWarning: iteritems is deprecated and will be removed in a future version. Use .items instead.\n",
      "  self._init_pool(data, label, cat_features, text_features, embedding_features, pairs, weight, group_id, group_weight, subgroup_id, pairs_weight, baseline, timestamp, feature_names, thread_count)\n",
      "C:\\Users\\palni\\practicum\\practicum_env\\lib\\site-packages\\catboost\\core.py:1171: FutureWarning: iteritems is deprecated and will be removed in a future version. Use .items instead.\n",
      "  self._init_pool(data, label, cat_features, text_features, embedding_features, pairs, weight, group_id, group_weight, subgroup_id, pairs_weight, baseline, timestamp, feature_names, thread_count)\n",
      "C:\\Users\\palni\\practicum\\practicum_env\\lib\\site-packages\\catboost\\core.py:1171: FutureWarning: iteritems is deprecated and will be removed in a future version. Use .items instead.\n",
      "  self._init_pool(data, label, cat_features, text_features, embedding_features, pairs, weight, group_id, group_weight, subgroup_id, pairs_weight, baseline, timestamp, feature_names, thread_count)\n"
     ]
    },
    {
     "name": "stdout",
     "output_type": "stream",
     "text": [
      "0:\tlearn: 33.2979183\ttotal: 2.64ms\tremaining: 23.8ms\n",
      "1:\tlearn: 32.0788420\ttotal: 4.9ms\tremaining: 19.6ms\n",
      "2:\tlearn: 30.9461901\ttotal: 7.28ms\tremaining: 17ms\n",
      "3:\tlearn: 29.9547355\ttotal: 9.41ms\tremaining: 14.1ms\n",
      "4:\tlearn: 28.9640707\ttotal: 11.8ms\tremaining: 11.8ms\n",
      "5:\tlearn: 28.1146963\ttotal: 13.9ms\tremaining: 9.24ms\n",
      "6:\tlearn: 27.4151870\ttotal: 16ms\tremaining: 6.84ms\n",
      "7:\tlearn: 26.8447874\ttotal: 18.1ms\tremaining: 4.53ms\n",
      "8:\tlearn: 26.2881293\ttotal: 20.2ms\tremaining: 2.25ms\n",
      "9:\tlearn: 25.8347148\ttotal: 22.3ms\tremaining: 0us\n",
      "0:\tlearn: 28.0845289\ttotal: 1.53ms\tremaining: 13.8ms\n",
      "1:\tlearn: 26.4994539\ttotal: 2.93ms\tremaining: 11.7ms\n",
      "2:\tlearn: 24.9168506\ttotal: 4.18ms\tremaining: 9.77ms\n",
      "3:\tlearn: 23.8127585\ttotal: 5.5ms\tremaining: 8.26ms\n",
      "4:\tlearn: 22.9200834\ttotal: 7.01ms\tremaining: 7.01ms\n",
      "5:\tlearn: 22.0221202\ttotal: 8.44ms\tremaining: 5.63ms\n",
      "6:\tlearn: 21.2149352\ttotal: 9.87ms\tremaining: 4.23ms\n",
      "7:\tlearn: 20.5819145\ttotal: 11.3ms\tremaining: 2.81ms\n",
      "8:\tlearn: 20.0879878\ttotal: 12.6ms\tremaining: 1.4ms\n",
      "9:\tlearn: 19.6822669\ttotal: 14.5ms\tremaining: 0us\n",
      "0:\tlearn: 28.5477395\ttotal: 1.84ms\tremaining: 16.5ms\n",
      "1:\tlearn: 27.0394198\ttotal: 3.43ms\tremaining: 13.7ms\n",
      "2:\tlearn: 25.7566801\ttotal: 4.97ms\tremaining: 11.6ms\n",
      "3:\tlearn: 24.5957254\ttotal: 6.47ms\tremaining: 9.71ms\n",
      "4:\tlearn: 23.5593912\ttotal: 7.95ms\tremaining: 7.95ms\n",
      "5:\tlearn: 22.8114268\ttotal: 9.43ms\tremaining: 6.29ms\n",
      "6:\tlearn: 22.2115328\ttotal: 11ms\tremaining: 4.71ms\n",
      "7:\tlearn: 21.6046166\ttotal: 12.5ms\tremaining: 3.12ms\n",
      "8:\tlearn: 21.1424797\ttotal: 13.9ms\tremaining: 1.55ms\n",
      "9:\tlearn: 20.7452983\ttotal: 15.5ms\tremaining: 0us\n",
      "0:\tlearn: 29.9247386\ttotal: 2.06ms\tremaining: 18.6ms\n",
      "1:\tlearn: 28.3850746\ttotal: 3.92ms\tremaining: 15.7ms\n",
      "2:\tlearn: 26.9139500\ttotal: 5.59ms\tremaining: 13ms\n",
      "3:\tlearn: 25.7579418\ttotal: 7.25ms\tremaining: 10.9ms\n",
      "4:\tlearn: 24.8351304\ttotal: 8.9ms\tremaining: 8.9ms\n",
      "5:\tlearn: 24.1102676\ttotal: 10.6ms\tremaining: 7.05ms\n",
      "6:\tlearn: 23.4138910\ttotal: 12.3ms\tremaining: 5.28ms\n",
      "7:\tlearn: 22.8752401\ttotal: 14ms\tremaining: 3.5ms\n",
      "8:\tlearn: 22.4555854\ttotal: 15.7ms\tremaining: 1.74ms\n",
      "9:\tlearn: 22.0932736\ttotal: 17.4ms\tremaining: 0us\n",
      "0:\tlearn: 31.2138091\ttotal: 2.29ms\tremaining: 20.6ms\n",
      "1:\tlearn: 29.5932785\ttotal: 4.32ms\tremaining: 17.3ms\n",
      "2:\tlearn: 28.1650139\ttotal: 6.33ms\tremaining: 14.8ms\n",
      "3:\tlearn: 26.9611638\ttotal: 8.27ms\tremaining: 12.4ms\n",
      "4:\tlearn: 25.9250351\ttotal: 10.3ms\tremaining: 10.3ms\n",
      "5:\tlearn: 25.1096632\ttotal: 12.2ms\tremaining: 8.1ms\n",
      "6:\tlearn: 24.5071534\ttotal: 14.1ms\tremaining: 6.05ms\n",
      "7:\tlearn: 23.9168411\ttotal: 16ms\tremaining: 4.01ms\n",
      "8:\tlearn: 23.3373297\ttotal: 18ms\tremaining: 2ms\n",
      "9:\tlearn: 22.9988453\ttotal: 19.9ms\tremaining: 0us\n",
      "0:\tlearn: 32.5788507\ttotal: 2.45ms\tremaining: 22ms\n"
     ]
    },
    {
     "name": "stderr",
     "output_type": "stream",
     "text": [
      "C:\\Users\\palni\\practicum\\practicum_env\\lib\\site-packages\\catboost\\core.py:1171: FutureWarning: iteritems is deprecated and will be removed in a future version. Use .items instead.\n",
      "  self._init_pool(data, label, cat_features, text_features, embedding_features, pairs, weight, group_id, group_weight, subgroup_id, pairs_weight, baseline, timestamp, feature_names, thread_count)\n",
      "C:\\Users\\palni\\practicum\\practicum_env\\lib\\site-packages\\catboost\\core.py:1171: FutureWarning: iteritems is deprecated and will be removed in a future version. Use .items instead.\n",
      "  self._init_pool(data, label, cat_features, text_features, embedding_features, pairs, weight, group_id, group_weight, subgroup_id, pairs_weight, baseline, timestamp, feature_names, thread_count)\n",
      "C:\\Users\\palni\\practicum\\practicum_env\\lib\\site-packages\\catboost\\core.py:1171: FutureWarning: iteritems is deprecated and will be removed in a future version. Use .items instead.\n",
      "  self._init_pool(data, label, cat_features, text_features, embedding_features, pairs, weight, group_id, group_weight, subgroup_id, pairs_weight, baseline, timestamp, feature_names, thread_count)\n",
      "C:\\Users\\palni\\practicum\\practicum_env\\lib\\site-packages\\catboost\\core.py:1171: FutureWarning: iteritems is deprecated and will be removed in a future version. Use .items instead.\n",
      "  self._init_pool(data, label, cat_features, text_features, embedding_features, pairs, weight, group_id, group_weight, subgroup_id, pairs_weight, baseline, timestamp, feature_names, thread_count)\n",
      "C:\\Users\\palni\\practicum\\practicum_env\\lib\\site-packages\\catboost\\core.py:1171: FutureWarning: iteritems is deprecated and will be removed in a future version. Use .items instead.\n",
      "  self._init_pool(data, label, cat_features, text_features, embedding_features, pairs, weight, group_id, group_weight, subgroup_id, pairs_weight, baseline, timestamp, feature_names, thread_count)\n"
     ]
    },
    {
     "name": "stdout",
     "output_type": "stream",
     "text": [
      "1:\tlearn: 30.8591588\ttotal: 5.12ms\tremaining: 20.5ms\n",
      "2:\tlearn: 29.3050906\ttotal: 7.35ms\tremaining: 17.1ms\n",
      "3:\tlearn: 28.0547670\ttotal: 9.57ms\tremaining: 14.4ms\n",
      "4:\tlearn: 26.9849410\ttotal: 11.9ms\tremaining: 11.9ms\n",
      "5:\tlearn: 26.1354754\ttotal: 14.2ms\tremaining: 9.44ms\n",
      "6:\tlearn: 25.4459295\ttotal: 16.7ms\tremaining: 7.16ms\n",
      "7:\tlearn: 24.9061507\ttotal: 18.8ms\tremaining: 4.7ms\n",
      "8:\tlearn: 24.4690884\ttotal: 20.9ms\tremaining: 2.32ms\n",
      "9:\tlearn: 24.1190993\ttotal: 23ms\tremaining: 0us\n",
      "0:\tlearn: 29.1952362\ttotal: 8.02ms\tremaining: 72.2ms\n",
      "1:\tlearn: 28.6517776\ttotal: 9.42ms\tremaining: 37.7ms\n",
      "2:\tlearn: 28.0666355\ttotal: 10.7ms\tremaining: 24.9ms\n",
      "3:\tlearn: 27.6194485\ttotal: 12ms\tremaining: 17.9ms\n",
      "4:\tlearn: 27.1790296\ttotal: 13.3ms\tremaining: 13.3ms\n",
      "5:\tlearn: 26.7360401\ttotal: 14.7ms\tremaining: 9.78ms\n",
      "6:\tlearn: 26.3961221\ttotal: 16.1ms\tremaining: 6.89ms\n",
      "7:\tlearn: 26.0074093\ttotal: 17.3ms\tremaining: 4.33ms\n",
      "8:\tlearn: 25.6510172\ttotal: 18.7ms\tremaining: 2.08ms\n",
      "9:\tlearn: 25.2485021\ttotal: 20.1ms\tremaining: 0us\n",
      "0:\tlearn: 29.7434110\ttotal: 1.78ms\tremaining: 16ms\n",
      "1:\tlearn: 29.2281182\ttotal: 3.36ms\tremaining: 13.4ms\n",
      "2:\tlearn: 28.7291340\ttotal: 4.9ms\tremaining: 11.4ms\n",
      "3:\tlearn: 28.2509525\ttotal: 6.33ms\tremaining: 9.49ms\n",
      "4:\tlearn: 27.7856387\ttotal: 7.8ms\tremaining: 7.8ms\n",
      "5:\tlearn: 27.3246232\ttotal: 9.35ms\tremaining: 6.23ms\n",
      "6:\tlearn: 26.8897047\ttotal: 10.8ms\tremaining: 4.63ms\n",
      "7:\tlearn: 26.4700707\ttotal: 12.3ms\tremaining: 3.07ms\n",
      "8:\tlearn: 26.1368675\ttotal: 13.8ms\tremaining: 1.53ms\n",
      "9:\tlearn: 25.7339089\ttotal: 15.3ms\tremaining: 0us\n",
      "0:\tlearn: 31.3329482\ttotal: 2.12ms\tremaining: 19.1ms\n",
      "1:\tlearn: 30.7458970\ttotal: 3.96ms\tremaining: 15.8ms\n",
      "2:\tlearn: 30.1339592\ttotal: 5.67ms\tremaining: 13.2ms\n",
      "3:\tlearn: 29.5896817\ttotal: 7.41ms\tremaining: 11.1ms\n",
      "4:\tlearn: 29.0818435\ttotal: 9.15ms\tremaining: 9.15ms\n",
      "5:\tlearn: 28.5840335\ttotal: 10.8ms\tremaining: 7.22ms\n",
      "6:\tlearn: 28.1599755\ttotal: 12.5ms\tremaining: 5.37ms\n",
      "7:\tlearn: 27.7414625\ttotal: 14.2ms\tremaining: 3.56ms\n",
      "8:\tlearn: 27.3417949\ttotal: 16ms\tremaining: 1.78ms\n",
      "9:\tlearn: 26.9515496\ttotal: 17.8ms\tremaining: 0us\n",
      "0:\tlearn: 32.6654247\ttotal: 2.31ms\tremaining: 20.8ms\n",
      "1:\tlearn: 32.0705561\ttotal: 4.33ms\tremaining: 17.3ms\n",
      "2:\tlearn: 31.4426957\ttotal: 6.25ms\tremaining: 14.6ms\n",
      "3:\tlearn: 30.8626458\ttotal: 8.18ms\tremaining: 12.3ms\n",
      "4:\tlearn: 30.2981666\ttotal: 10.1ms\tremaining: 10.1ms\n",
      "5:\tlearn: 29.7879662\ttotal: 12ms\tremaining: 8.02ms\n",
      "6:\tlearn: 29.3265117\ttotal: 14ms\tremaining: 6.01ms\n",
      "7:\tlearn: 28.8756498\ttotal: 16ms\tremaining: 4ms\n",
      "8:\tlearn: 28.4732437\ttotal: 18ms\tremaining: 2ms\n",
      "9:\tlearn: 28.0793469\ttotal: 19.9ms\tremaining: 0us\n"
     ]
    },
    {
     "name": "stderr",
     "output_type": "stream",
     "text": [
      "C:\\Users\\palni\\practicum\\practicum_env\\lib\\site-packages\\catboost\\core.py:1171: FutureWarning: iteritems is deprecated and will be removed in a future version. Use .items instead.\n",
      "  self._init_pool(data, label, cat_features, text_features, embedding_features, pairs, weight, group_id, group_weight, subgroup_id, pairs_weight, baseline, timestamp, feature_names, thread_count)\n",
      "C:\\Users\\palni\\practicum\\practicum_env\\lib\\site-packages\\catboost\\core.py:1171: FutureWarning: iteritems is deprecated and will be removed in a future version. Use .items instead.\n",
      "  self._init_pool(data, label, cat_features, text_features, embedding_features, pairs, weight, group_id, group_weight, subgroup_id, pairs_weight, baseline, timestamp, feature_names, thread_count)\n",
      "C:\\Users\\palni\\practicum\\practicum_env\\lib\\site-packages\\catboost\\core.py:1171: FutureWarning: iteritems is deprecated and will be removed in a future version. Use .items instead.\n",
      "  self._init_pool(data, label, cat_features, text_features, embedding_features, pairs, weight, group_id, group_weight, subgroup_id, pairs_weight, baseline, timestamp, feature_names, thread_count)\n",
      "C:\\Users\\palni\\practicum\\practicum_env\\lib\\site-packages\\catboost\\core.py:1171: FutureWarning: iteritems is deprecated and will be removed in a future version. Use .items instead.\n",
      "  self._init_pool(data, label, cat_features, text_features, embedding_features, pairs, weight, group_id, group_weight, subgroup_id, pairs_weight, baseline, timestamp, feature_names, thread_count)\n",
      "C:\\Users\\palni\\practicum\\practicum_env\\lib\\site-packages\\catboost\\core.py:1171: FutureWarning: iteritems is deprecated and will be removed in a future version. Use .items instead.\n",
      "  self._init_pool(data, label, cat_features, text_features, embedding_features, pairs, weight, group_id, group_weight, subgroup_id, pairs_weight, baseline, timestamp, feature_names, thread_count)\n"
     ]
    },
    {
     "name": "stdout",
     "output_type": "stream",
     "text": [
      "0:\tlearn: 34.0644060\ttotal: 2.46ms\tremaining: 22.1ms\n",
      "1:\tlearn: 33.4158986\ttotal: 4.85ms\tremaining: 19.4ms\n",
      "2:\tlearn: 32.7999750\ttotal: 7.07ms\tremaining: 16.5ms\n",
      "3:\tlearn: 32.1886157\ttotal: 9.34ms\tremaining: 14ms\n",
      "4:\tlearn: 31.6337761\ttotal: 11.6ms\tremaining: 11.6ms\n",
      "5:\tlearn: 31.0629150\ttotal: 13.9ms\tremaining: 9.29ms\n",
      "6:\tlearn: 30.5551564\ttotal: 17.3ms\tremaining: 7.42ms\n",
      "7:\tlearn: 30.0660042\ttotal: 19.7ms\tremaining: 4.93ms\n",
      "8:\tlearn: 29.6342998\ttotal: 22.1ms\tremaining: 2.45ms\n",
      "9:\tlearn: 29.1976906\ttotal: 24.4ms\tremaining: 0us\n",
      "0:\tlearn: 28.7181055\ttotal: 1.52ms\tremaining: 13.7ms\n",
      "1:\tlearn: 27.7134249\ttotal: 2.93ms\tremaining: 11.7ms\n",
      "2:\tlearn: 26.6151163\ttotal: 4.28ms\tremaining: 9.99ms\n",
      "3:\tlearn: 25.8362909\ttotal: 5.68ms\tremaining: 8.53ms\n",
      "4:\tlearn: 25.1310757\ttotal: 7.01ms\tremaining: 7.01ms\n",
      "5:\tlearn: 24.3871455\ttotal: 8.35ms\tremaining: 5.57ms\n",
      "6:\tlearn: 23.7607902\ttotal: 9.66ms\tremaining: 4.14ms\n",
      "7:\tlearn: 23.1036673\ttotal: 11.1ms\tremaining: 2.77ms\n",
      "8:\tlearn: 22.6014639\ttotal: 12.4ms\tremaining: 1.38ms\n",
      "9:\tlearn: 22.1101163\ttotal: 13.8ms\tremaining: 0us\n",
      "0:\tlearn: 29.1746836\ttotal: 1.84ms\tremaining: 16.6ms\n",
      "1:\tlearn: 28.2003895\ttotal: 3.51ms\tremaining: 14ms\n",
      "2:\tlearn: 27.3189749\ttotal: 5.05ms\tremaining: 11.8ms\n",
      "3:\tlearn: 26.4683229\ttotal: 6.51ms\tremaining: 9.77ms\n",
      "4:\tlearn: 25.7495407\ttotal: 8.01ms\tremaining: 8.01ms\n",
      "5:\tlearn: 25.0646743\ttotal: 9.51ms\tremaining: 6.34ms\n",
      "6:\tlearn: 24.4571393\ttotal: 11ms\tremaining: 4.7ms\n",
      "7:\tlearn: 23.9085473\ttotal: 12.4ms\tremaining: 3.11ms\n",
      "8:\tlearn: 23.4635809\ttotal: 13.9ms\tremaining: 1.54ms\n",
      "9:\tlearn: 23.0509886\ttotal: 15.4ms\tremaining: 0us\n",
      "0:\tlearn: 30.6647035\ttotal: 15.3ms\tremaining: 138ms\n",
      "1:\tlearn: 29.6267340\ttotal: 17.2ms\tremaining: 68.8ms\n",
      "2:\tlearn: 28.5628215\ttotal: 18.9ms\tremaining: 44.1ms\n",
      "3:\tlearn: 27.6563956\ttotal: 20.6ms\tremaining: 30.8ms\n",
      "4:\tlearn: 26.8429125\ttotal: 22.2ms\tremaining: 22.2ms\n",
      "5:\tlearn: 26.1016035\ttotal: 23.9ms\tremaining: 15.9ms\n",
      "6:\tlearn: 25.4658970\ttotal: 25.7ms\tremaining: 11ms\n",
      "7:\tlearn: 24.9484382\ttotal: 27.4ms\tremaining: 6.84ms\n",
      "8:\tlearn: 24.4549558\ttotal: 29.1ms\tremaining: 3.23ms\n",
      "9:\tlearn: 24.0223071\ttotal: 30.8ms\tremaining: 0us\n",
      "0:\tlearn: 31.9614989\ttotal: 2.21ms\tremaining: 19.9ms\n",
      "1:\tlearn: 30.8595554\ttotal: 4.25ms\tremaining: 17ms\n",
      "2:\tlearn: 29.7631281\ttotal: 6.22ms\tremaining: 14.5ms\n",
      "3:\tlearn: 28.7905215\ttotal: 8.19ms\tremaining: 12.3ms\n",
      "4:\tlearn: 27.9015990\ttotal: 10.1ms\tremaining: 10.1ms\n",
      "5:\tlearn: 27.1711184\ttotal: 12ms\tremaining: 8.01ms\n"
     ]
    },
    {
     "name": "stderr",
     "output_type": "stream",
     "text": [
      "C:\\Users\\palni\\practicum\\practicum_env\\lib\\site-packages\\catboost\\core.py:1171: FutureWarning: iteritems is deprecated and will be removed in a future version. Use .items instead.\n",
      "  self._init_pool(data, label, cat_features, text_features, embedding_features, pairs, weight, group_id, group_weight, subgroup_id, pairs_weight, baseline, timestamp, feature_names, thread_count)\n",
      "C:\\Users\\palni\\practicum\\practicum_env\\lib\\site-packages\\catboost\\core.py:1171: FutureWarning: iteritems is deprecated and will be removed in a future version. Use .items instead.\n",
      "  self._init_pool(data, label, cat_features, text_features, embedding_features, pairs, weight, group_id, group_weight, subgroup_id, pairs_weight, baseline, timestamp, feature_names, thread_count)\n",
      "C:\\Users\\palni\\practicum\\practicum_env\\lib\\site-packages\\catboost\\core.py:1171: FutureWarning: iteritems is deprecated and will be removed in a future version. Use .items instead.\n",
      "  self._init_pool(data, label, cat_features, text_features, embedding_features, pairs, weight, group_id, group_weight, subgroup_id, pairs_weight, baseline, timestamp, feature_names, thread_count)\n",
      "C:\\Users\\palni\\practicum\\practicum_env\\lib\\site-packages\\catboost\\core.py:1171: FutureWarning: iteritems is deprecated and will be removed in a future version. Use .items instead.\n",
      "  self._init_pool(data, label, cat_features, text_features, embedding_features, pairs, weight, group_id, group_weight, subgroup_id, pairs_weight, baseline, timestamp, feature_names, thread_count)\n",
      "C:\\Users\\palni\\practicum\\practicum_env\\lib\\site-packages\\catboost\\core.py:1171: FutureWarning: iteritems is deprecated and will be removed in a future version. Use .items instead.\n",
      "  self._init_pool(data, label, cat_features, text_features, embedding_features, pairs, weight, group_id, group_weight, subgroup_id, pairs_weight, baseline, timestamp, feature_names, thread_count)\n"
     ]
    },
    {
     "name": "stdout",
     "output_type": "stream",
     "text": [
      "6:\tlearn: 26.5305161\ttotal: 14.4ms\tremaining: 6.16ms\n",
      "7:\tlearn: 25.9642123\ttotal: 16.6ms\tremaining: 4.16ms\n",
      "8:\tlearn: 25.4353007\ttotal: 18.8ms\tremaining: 2.08ms\n",
      "9:\tlearn: 25.0043763\ttotal: 20.8ms\tremaining: 0us\n",
      "0:\tlearn: 33.3456048\ttotal: 2.47ms\tremaining: 22.2ms\n",
      "1:\tlearn: 32.1790909\ttotal: 4.75ms\tremaining: 19ms\n",
      "2:\tlearn: 31.0906787\ttotal: 6.87ms\tremaining: 16ms\n",
      "3:\tlearn: 30.1275132\ttotal: 8.97ms\tremaining: 13.5ms\n",
      "4:\tlearn: 29.1885149\ttotal: 11.1ms\tremaining: 11.1ms\n",
      "5:\tlearn: 28.3580633\ttotal: 13.3ms\tremaining: 8.86ms\n",
      "6:\tlearn: 27.7013963\ttotal: 15.3ms\tremaining: 6.57ms\n",
      "7:\tlearn: 27.0931675\ttotal: 17.4ms\tremaining: 4.36ms\n",
      "8:\tlearn: 26.5681833\ttotal: 19.5ms\tremaining: 2.17ms\n",
      "9:\tlearn: 26.1455141\ttotal: 21.5ms\tremaining: 0us\n",
      "0:\tlearn: 28.2510480\ttotal: 2.83ms\tremaining: 25.5ms\n",
      "1:\tlearn: 26.7840173\ttotal: 4.23ms\tremaining: 16.9ms\n",
      "2:\tlearn: 25.3015464\ttotal: 5.49ms\tremaining: 12.8ms\n",
      "3:\tlearn: 24.3279988\ttotal: 6.7ms\tremaining: 10ms\n",
      "4:\tlearn: 23.5573346\ttotal: 8.02ms\tremaining: 8.02ms\n",
      "5:\tlearn: 22.7692438\ttotal: 9.29ms\tremaining: 6.19ms\n",
      "6:\tlearn: 22.2097408\ttotal: 10.6ms\tremaining: 4.54ms\n",
      "7:\tlearn: 21.6225728\ttotal: 11.8ms\tremaining: 2.95ms\n",
      "8:\tlearn: 21.0857964\ttotal: 13ms\tremaining: 1.45ms\n",
      "9:\tlearn: 20.5565500\ttotal: 14.3ms\tremaining: 0us\n",
      "0:\tlearn: 28.6212863\ttotal: 1.93ms\tremaining: 17.3ms\n",
      "1:\tlearn: 27.2638917\ttotal: 3.54ms\tremaining: 14.2ms\n",
      "2:\tlearn: 26.1514289\ttotal: 5.07ms\tremaining: 11.8ms\n",
      "3:\tlearn: 25.0615635\ttotal: 6.59ms\tremaining: 9.88ms\n",
      "4:\tlearn: 24.0336697\ttotal: 8.1ms\tremaining: 8.1ms\n",
      "5:\tlearn: 23.2316512\ttotal: 9.53ms\tremaining: 6.35ms\n",
      "6:\tlearn: 22.6264167\ttotal: 10.9ms\tremaining: 4.69ms\n",
      "7:\tlearn: 22.0583311\ttotal: 12.4ms\tremaining: 3.11ms\n",
      "8:\tlearn: 21.6097475\ttotal: 14ms\tremaining: 1.55ms\n",
      "9:\tlearn: 21.2149384\ttotal: 15.5ms\tremaining: 0us\n",
      "0:\tlearn: 30.0156131\ttotal: 2.12ms\tremaining: 19.1ms\n",
      "1:\tlearn: 28.4925153\ttotal: 3.93ms\tremaining: 15.7ms\n",
      "2:\tlearn: 27.0991211\ttotal: 5.67ms\tremaining: 13.2ms\n",
      "3:\tlearn: 26.0036843\ttotal: 7.34ms\tremaining: 11ms\n",
      "4:\tlearn: 25.0484146\ttotal: 9.14ms\tremaining: 9.14ms\n",
      "5:\tlearn: 24.3140687\ttotal: 10.8ms\tremaining: 7.21ms\n",
      "6:\tlearn: 23.6781625\ttotal: 12.5ms\tremaining: 5.38ms\n",
      "7:\tlearn: 23.0697520\ttotal: 14.3ms\tremaining: 3.56ms\n",
      "8:\tlearn: 22.5270540\ttotal: 16ms\tremaining: 1.78ms\n",
      "9:\tlearn: 22.1757893\ttotal: 17.7ms\tremaining: 0us\n",
      "0:\tlearn: 31.2785093\ttotal: 2.29ms\tremaining: 20.6ms\n"
     ]
    },
    {
     "name": "stderr",
     "output_type": "stream",
     "text": [
      "C:\\Users\\palni\\practicum\\practicum_env\\lib\\site-packages\\catboost\\core.py:1171: FutureWarning: iteritems is deprecated and will be removed in a future version. Use .items instead.\n",
      "  self._init_pool(data, label, cat_features, text_features, embedding_features, pairs, weight, group_id, group_weight, subgroup_id, pairs_weight, baseline, timestamp, feature_names, thread_count)\n",
      "C:\\Users\\palni\\practicum\\practicum_env\\lib\\site-packages\\catboost\\core.py:1171: FutureWarning: iteritems is deprecated and will be removed in a future version. Use .items instead.\n",
      "  self._init_pool(data, label, cat_features, text_features, embedding_features, pairs, weight, group_id, group_weight, subgroup_id, pairs_weight, baseline, timestamp, feature_names, thread_count)\n",
      "C:\\Users\\palni\\practicum\\practicum_env\\lib\\site-packages\\catboost\\core.py:1171: FutureWarning: iteritems is deprecated and will be removed in a future version. Use .items instead.\n",
      "  self._init_pool(data, label, cat_features, text_features, embedding_features, pairs, weight, group_id, group_weight, subgroup_id, pairs_weight, baseline, timestamp, feature_names, thread_count)\n",
      "C:\\Users\\palni\\practicum\\practicum_env\\lib\\site-packages\\catboost\\core.py:1171: FutureWarning: iteritems is deprecated and will be removed in a future version. Use .items instead.\n",
      "  self._init_pool(data, label, cat_features, text_features, embedding_features, pairs, weight, group_id, group_weight, subgroup_id, pairs_weight, baseline, timestamp, feature_names, thread_count)\n",
      "C:\\Users\\palni\\practicum\\practicum_env\\lib\\site-packages\\catboost\\core.py:1171: FutureWarning: iteritems is deprecated and will be removed in a future version. Use .items instead.\n",
      "  self._init_pool(data, label, cat_features, text_features, embedding_features, pairs, weight, group_id, group_weight, subgroup_id, pairs_weight, baseline, timestamp, feature_names, thread_count)\n"
     ]
    },
    {
     "name": "stdout",
     "output_type": "stream",
     "text": [
      "1:\tlearn: 29.7419948\ttotal: 4.74ms\tremaining: 18.9ms\n",
      "2:\tlearn: 28.3318648\ttotal: 6.9ms\tremaining: 16.1ms\n",
      "3:\tlearn: 27.1571573\ttotal: 8.94ms\tremaining: 13.4ms\n",
      "4:\tlearn: 26.1107050\ttotal: 11.1ms\tremaining: 11.1ms\n",
      "5:\tlearn: 25.2863578\ttotal: 13.1ms\tremaining: 8.76ms\n",
      "6:\tlearn: 24.6858592\ttotal: 15.4ms\tremaining: 6.58ms\n",
      "7:\tlearn: 24.1350507\ttotal: 17.4ms\tremaining: 4.35ms\n",
      "8:\tlearn: 23.5551059\ttotal: 19.5ms\tremaining: 2.16ms\n",
      "9:\tlearn: 23.1223257\ttotal: 21.6ms\tremaining: 0us\n",
      "0:\tlearn: 32.6482996\ttotal: 2.46ms\tremaining: 22.2ms\n",
      "1:\tlearn: 30.9937733\ttotal: 4.78ms\tremaining: 19.1ms\n",
      "2:\tlearn: 29.5160436\ttotal: 6.96ms\tremaining: 16.2ms\n",
      "3:\tlearn: 28.2516713\ttotal: 8.98ms\tremaining: 13.5ms\n",
      "4:\tlearn: 27.2251167\ttotal: 11.2ms\tremaining: 11.2ms\n",
      "5:\tlearn: 26.3994377\ttotal: 13.3ms\tremaining: 8.83ms\n",
      "6:\tlearn: 25.7566071\ttotal: 15.3ms\tremaining: 6.57ms\n",
      "7:\tlearn: 25.2178887\ttotal: 17.5ms\tremaining: 4.37ms\n",
      "8:\tlearn: 24.7773768\ttotal: 19.7ms\tremaining: 2.18ms\n",
      "9:\tlearn: 24.4242068\ttotal: 21.7ms\tremaining: 0us\n",
      "0:\tlearn: 29.2570604\ttotal: 1.51ms\tremaining: 13.6ms\n",
      "1:\tlearn: 28.7924027\ttotal: 2.9ms\tremaining: 11.6ms\n",
      "2:\tlearn: 28.2290924\ttotal: 4.14ms\tremaining: 9.66ms\n",
      "3:\tlearn: 27.8057989\ttotal: 5.36ms\tremaining: 8.04ms\n",
      "4:\tlearn: 27.4189403\ttotal: 6.6ms\tremaining: 6.6ms\n",
      "5:\tlearn: 27.0045856\ttotal: 7.89ms\tremaining: 5.26ms\n",
      "6:\tlearn: 26.7142573\ttotal: 9.18ms\tremaining: 3.93ms\n",
      "7:\tlearn: 26.2960566\ttotal: 10.8ms\tremaining: 2.69ms\n",
      "8:\tlearn: 26.0073484\ttotal: 12.3ms\tremaining: 1.36ms\n",
      "9:\tlearn: 25.6078832\ttotal: 13.7ms\tremaining: 0us\n",
      "0:\tlearn: 29.7821089\ttotal: 1.84ms\tremaining: 16.5ms\n",
      "1:\tlearn: 29.2962286\ttotal: 3.51ms\tremaining: 14.1ms\n",
      "2:\tlearn: 28.8403061\ttotal: 5.11ms\tremaining: 11.9ms\n",
      "3:\tlearn: 28.3696757\ttotal: 6.67ms\tremaining: 10ms\n",
      "4:\tlearn: 27.8919788\ttotal: 8.24ms\tremaining: 8.24ms\n",
      "5:\tlearn: 27.4583856\ttotal: 9.78ms\tremaining: 6.52ms\n",
      "6:\tlearn: 27.0470548\ttotal: 11.3ms\tremaining: 4.83ms\n",
      "7:\tlearn: 26.6465466\ttotal: 12.8ms\tremaining: 3.19ms\n",
      "8:\tlearn: 26.3468947\ttotal: 14.3ms\tremaining: 1.59ms\n",
      "9:\tlearn: 25.9615134\ttotal: 15.8ms\tremaining: 0us\n",
      "0:\tlearn: 31.3503597\ttotal: 2.11ms\tremaining: 19ms\n",
      "1:\tlearn: 30.8344761\ttotal: 3.96ms\tremaining: 15.9ms\n",
      "2:\tlearn: 30.2720448\ttotal: 5.67ms\tremaining: 13.2ms\n",
      "3:\tlearn: 29.7523752\ttotal: 7.31ms\tremaining: 11ms\n",
      "4:\tlearn: 29.2809271\ttotal: 9.15ms\tremaining: 9.15ms\n",
      "5:\tlearn: 28.8121477\ttotal: 10.8ms\tremaining: 7.22ms\n",
      "6:\tlearn: 28.3987078\ttotal: 12.5ms\tremaining: 5.36ms\n",
      "7:\tlearn: 27.9881282\ttotal: 14.2ms\tremaining: 3.55ms\n",
      "8:\tlearn: 27.6439853\ttotal: 16ms\tremaining: 1.77ms\n",
      "9:\tlearn: 27.2445396\ttotal: 17.7ms\tremaining: 0us\n",
      "0:\tlearn: 32.6855549\ttotal: 7.18ms\tremaining: 64.6ms\n"
     ]
    },
    {
     "name": "stderr",
     "output_type": "stream",
     "text": [
      "C:\\Users\\palni\\practicum\\practicum_env\\lib\\site-packages\\catboost\\core.py:1171: FutureWarning: iteritems is deprecated and will be removed in a future version. Use .items instead.\n",
      "  self._init_pool(data, label, cat_features, text_features, embedding_features, pairs, weight, group_id, group_weight, subgroup_id, pairs_weight, baseline, timestamp, feature_names, thread_count)\n",
      "C:\\Users\\palni\\practicum\\practicum_env\\lib\\site-packages\\catboost\\core.py:1171: FutureWarning: iteritems is deprecated and will be removed in a future version. Use .items instead.\n",
      "  self._init_pool(data, label, cat_features, text_features, embedding_features, pairs, weight, group_id, group_weight, subgroup_id, pairs_weight, baseline, timestamp, feature_names, thread_count)\n",
      "C:\\Users\\palni\\practicum\\practicum_env\\lib\\site-packages\\catboost\\core.py:1171: FutureWarning: iteritems is deprecated and will be removed in a future version. Use .items instead.\n",
      "  self._init_pool(data, label, cat_features, text_features, embedding_features, pairs, weight, group_id, group_weight, subgroup_id, pairs_weight, baseline, timestamp, feature_names, thread_count)\n",
      "C:\\Users\\palni\\practicum\\practicum_env\\lib\\site-packages\\catboost\\core.py:1171: FutureWarning: iteritems is deprecated and will be removed in a future version. Use .items instead.\n",
      "  self._init_pool(data, label, cat_features, text_features, embedding_features, pairs, weight, group_id, group_weight, subgroup_id, pairs_weight, baseline, timestamp, feature_names, thread_count)\n",
      "C:\\Users\\palni\\practicum\\practicum_env\\lib\\site-packages\\catboost\\core.py:1171: FutureWarning: iteritems is deprecated and will be removed in a future version. Use .items instead.\n",
      "  self._init_pool(data, label, cat_features, text_features, embedding_features, pairs, weight, group_id, group_weight, subgroup_id, pairs_weight, baseline, timestamp, feature_names, thread_count)\n"
     ]
    },
    {
     "name": "stdout",
     "output_type": "stream",
     "text": [
      "1:\tlearn: 32.1193956\ttotal: 9.61ms\tremaining: 38.5ms\n",
      "2:\tlearn: 31.4853113\ttotal: 11.8ms\tremaining: 27.6ms\n",
      "3:\tlearn: 30.9280667\ttotal: 13.8ms\tremaining: 20.7ms\n",
      "4:\tlearn: 30.3879636\ttotal: 15.9ms\tremaining: 15.9ms\n",
      "5:\tlearn: 29.8914903\ttotal: 18.1ms\tremaining: 12.1ms\n",
      "6:\tlearn: 29.4449161\ttotal: 20.3ms\tremaining: 8.71ms\n",
      "7:\tlearn: 29.0229959\ttotal: 22.4ms\tremaining: 5.59ms\n",
      "8:\tlearn: 28.6343347\ttotal: 24.4ms\tremaining: 2.71ms\n",
      "9:\tlearn: 28.2107023\ttotal: 26.4ms\tremaining: 0us\n",
      "0:\tlearn: 34.0867986\ttotal: 2.54ms\tremaining: 22.9ms\n",
      "1:\tlearn: 33.4644824\ttotal: 4.81ms\tremaining: 19.2ms\n",
      "2:\tlearn: 32.8601362\ttotal: 6.94ms\tremaining: 16.2ms\n",
      "3:\tlearn: 32.2700126\ttotal: 9.04ms\tremaining: 13.6ms\n",
      "4:\tlearn: 31.6996632\ttotal: 11.2ms\tremaining: 11.2ms\n",
      "5:\tlearn: 31.1399853\ttotal: 13.3ms\tremaining: 8.87ms\n",
      "6:\tlearn: 30.6909117\ttotal: 15.4ms\tremaining: 6.61ms\n",
      "7:\tlearn: 30.2126976\ttotal: 17.5ms\tremaining: 4.38ms\n",
      "8:\tlearn: 29.7943604\ttotal: 19.8ms\tremaining: 2.2ms\n",
      "9:\tlearn: 29.3606597\ttotal: 22.1ms\tremaining: 0us\n",
      "0:\tlearn: 28.8395959\ttotal: 1.48ms\tremaining: 13.3ms\n",
      "1:\tlearn: 27.9522187\ttotal: 2.87ms\tremaining: 11.5ms\n",
      "2:\tlearn: 26.9259203\ttotal: 4.15ms\tremaining: 9.68ms\n",
      "3:\tlearn: 26.1979560\ttotal: 5.38ms\tremaining: 8.07ms\n",
      "4:\tlearn: 25.5454559\ttotal: 6.61ms\tremaining: 6.61ms\n",
      "5:\tlearn: 24.9549061\ttotal: 7.93ms\tremaining: 5.29ms\n",
      "6:\tlearn: 24.4280442\ttotal: 9.29ms\tremaining: 3.98ms\n",
      "7:\tlearn: 23.8803575\ttotal: 10.9ms\tremaining: 2.72ms\n",
      "8:\tlearn: 23.4087863\ttotal: 12.3ms\tremaining: 1.36ms\n",
      "9:\tlearn: 22.9065162\ttotal: 13.6ms\tremaining: 0us\n",
      "0:\tlearn: 29.2504633\ttotal: 1.86ms\tremaining: 16.7ms\n",
      "1:\tlearn: 28.3399023\ttotal: 3.47ms\tremaining: 13.9ms\n",
      "2:\tlearn: 27.5272089\ttotal: 4.99ms\tremaining: 11.6ms\n",
      "3:\tlearn: 26.7155282\ttotal: 6.6ms\tremaining: 9.9ms\n",
      "4:\tlearn: 26.0233504\ttotal: 8.12ms\tremaining: 8.12ms\n",
      "5:\tlearn: 25.3556846\ttotal: 9.6ms\tremaining: 6.4ms\n",
      "6:\tlearn: 24.8147341\ttotal: 11.1ms\tremaining: 4.76ms\n",
      "7:\tlearn: 24.2870247\ttotal: 12.6ms\tremaining: 3.15ms\n",
      "8:\tlearn: 23.8700270\ttotal: 14.2ms\tremaining: 1.57ms\n",
      "9:\tlearn: 23.4324120\ttotal: 15.6ms\tremaining: 0us\n",
      "0:\tlearn: 30.6988716\ttotal: 17.8ms\tremaining: 160ms\n",
      "1:\tlearn: 29.7412785\ttotal: 19.9ms\tremaining: 79.4ms\n",
      "2:\tlearn: 28.8015345\ttotal: 21.7ms\tremaining: 50.5ms\n",
      "3:\tlearn: 27.9374164\ttotal: 23.3ms\tremaining: 35ms\n",
      "4:\tlearn: 27.1196591\ttotal: 25.1ms\tremaining: 25.1ms\n",
      "5:\tlearn: 26.4230495\ttotal: 26.7ms\tremaining: 17.8ms\n",
      "6:\tlearn: 25.7970724\ttotal: 28.4ms\tremaining: 12.2ms\n",
      "7:\tlearn: 25.2264071\ttotal: 30.2ms\tremaining: 7.56ms\n",
      "8:\tlearn: 24.6534089\ttotal: 32ms\tremaining: 3.55ms\n"
     ]
    },
    {
     "name": "stderr",
     "output_type": "stream",
     "text": [
      "C:\\Users\\palni\\practicum\\practicum_env\\lib\\site-packages\\catboost\\core.py:1171: FutureWarning: iteritems is deprecated and will be removed in a future version. Use .items instead.\n",
      "  self._init_pool(data, label, cat_features, text_features, embedding_features, pairs, weight, group_id, group_weight, subgroup_id, pairs_weight, baseline, timestamp, feature_names, thread_count)\n",
      "C:\\Users\\palni\\practicum\\practicum_env\\lib\\site-packages\\catboost\\core.py:1171: FutureWarning: iteritems is deprecated and will be removed in a future version. Use .items instead.\n",
      "  self._init_pool(data, label, cat_features, text_features, embedding_features, pairs, weight, group_id, group_weight, subgroup_id, pairs_weight, baseline, timestamp, feature_names, thread_count)\n",
      "C:\\Users\\palni\\practicum\\practicum_env\\lib\\site-packages\\catboost\\core.py:1171: FutureWarning: iteritems is deprecated and will be removed in a future version. Use .items instead.\n",
      "  self._init_pool(data, label, cat_features, text_features, embedding_features, pairs, weight, group_id, group_weight, subgroup_id, pairs_weight, baseline, timestamp, feature_names, thread_count)\n",
      "C:\\Users\\palni\\practicum\\practicum_env\\lib\\site-packages\\catboost\\core.py:1171: FutureWarning: iteritems is deprecated and will be removed in a future version. Use .items instead.\n",
      "  self._init_pool(data, label, cat_features, text_features, embedding_features, pairs, weight, group_id, group_weight, subgroup_id, pairs_weight, baseline, timestamp, feature_names, thread_count)\n",
      "C:\\Users\\palni\\practicum\\practicum_env\\lib\\site-packages\\catboost\\core.py:1171: FutureWarning: iteritems is deprecated and will be removed in a future version. Use .items instead.\n",
      "  self._init_pool(data, label, cat_features, text_features, embedding_features, pairs, weight, group_id, group_weight, subgroup_id, pairs_weight, baseline, timestamp, feature_names, thread_count)\n"
     ]
    },
    {
     "name": "stdout",
     "output_type": "stream",
     "text": [
      "9:\tlearn: 24.2375714\ttotal: 34.2ms\tremaining: 0us\n",
      "0:\tlearn: 32.0008348\ttotal: 9.86ms\tremaining: 88.7ms\n",
      "1:\tlearn: 30.9502804\ttotal: 11.9ms\tremaining: 47.8ms\n",
      "2:\tlearn: 29.8722894\ttotal: 13.9ms\tremaining: 32.5ms\n",
      "3:\tlearn: 28.9280277\ttotal: 15.8ms\tremaining: 23.7ms\n",
      "4:\tlearn: 28.0692417\ttotal: 17.8ms\tremaining: 17.8ms\n",
      "5:\tlearn: 27.3347516\ttotal: 19.7ms\tremaining: 13.1ms\n",
      "6:\tlearn: 26.7050985\ttotal: 21.7ms\tremaining: 9.3ms\n",
      "7:\tlearn: 26.1463336\ttotal: 23.7ms\tremaining: 5.93ms\n",
      "8:\tlearn: 25.6428823\ttotal: 25.7ms\tremaining: 2.85ms\n",
      "9:\tlearn: 25.1742634\ttotal: 27.6ms\tremaining: 0us\n",
      "0:\tlearn: 33.3892847\ttotal: 2.48ms\tremaining: 22.3ms\n",
      "1:\tlearn: 32.2655549\ttotal: 4.72ms\tremaining: 18.9ms\n",
      "2:\tlearn: 31.2145617\ttotal: 6.89ms\tremaining: 16.1ms\n",
      "3:\tlearn: 30.2761439\ttotal: 8.96ms\tremaining: 13.4ms\n",
      "4:\tlearn: 29.3570090\ttotal: 11ms\tremaining: 11ms\n",
      "5:\tlearn: 28.5304130\ttotal: 13ms\tremaining: 8.68ms\n",
      "6:\tlearn: 27.8700344\ttotal: 15.1ms\tremaining: 6.46ms\n",
      "7:\tlearn: 27.2735995\ttotal: 17.2ms\tremaining: 4.29ms\n",
      "8:\tlearn: 26.7558157\ttotal: 19.2ms\tremaining: 2.13ms\n",
      "9:\tlearn: 26.3024738\ttotal: 21.2ms\tremaining: 0us\n",
      "0:\tlearn: 28.4298882\ttotal: 1.52ms\tremaining: 13.7ms\n",
      "1:\tlearn: 27.0635629\ttotal: 3.23ms\tremaining: 12.9ms\n",
      "2:\tlearn: 25.6266455\ttotal: 4.72ms\tremaining: 11ms\n",
      "3:\tlearn: 24.7003416\ttotal: 6.05ms\tremaining: 9.07ms\n",
      "4:\tlearn: 23.9378457\ttotal: 7.4ms\tremaining: 7.4ms\n",
      "5:\tlearn: 23.1434195\ttotal: 8.68ms\tremaining: 5.78ms\n",
      "6:\tlearn: 22.5993124\ttotal: 9.96ms\tremaining: 4.27ms\n",
      "7:\tlearn: 21.9635035\ttotal: 11.5ms\tremaining: 2.88ms\n",
      "8:\tlearn: 21.5235588\ttotal: 13ms\tremaining: 1.45ms\n",
      "9:\tlearn: 21.0067853\ttotal: 14.5ms\tremaining: 0us\n",
      "0:\tlearn: 28.7323830\ttotal: 8.29ms\tremaining: 74.7ms\n",
      "1:\tlearn: 27.4572818\ttotal: 9.91ms\tremaining: 39.6ms\n",
      "2:\tlearn: 26.2713012\ttotal: 11.4ms\tremaining: 26.7ms\n",
      "3:\tlearn: 25.2480501\ttotal: 12.9ms\tremaining: 19.4ms\n",
      "4:\tlearn: 24.3858773\ttotal: 14.4ms\tremaining: 14.4ms\n",
      "5:\tlearn: 23.6964513\ttotal: 16ms\tremaining: 10.6ms\n",
      "6:\tlearn: 23.0206067\ttotal: 17.5ms\tremaining: 7.49ms\n",
      "7:\tlearn: 22.4431428\ttotal: 19ms\tremaining: 4.74ms\n",
      "8:\tlearn: 21.9607551\ttotal: 20.5ms\tremaining: 2.27ms\n",
      "9:\tlearn: 21.5924449\ttotal: 21.9ms\tremaining: 0us\n",
      "0:\tlearn: 30.0658083\ttotal: 2.7ms\tremaining: 24.3ms\n"
     ]
    },
    {
     "name": "stderr",
     "output_type": "stream",
     "text": [
      "C:\\Users\\palni\\practicum\\practicum_env\\lib\\site-packages\\catboost\\core.py:1171: FutureWarning: iteritems is deprecated and will be removed in a future version. Use .items instead.\n",
      "  self._init_pool(data, label, cat_features, text_features, embedding_features, pairs, weight, group_id, group_weight, subgroup_id, pairs_weight, baseline, timestamp, feature_names, thread_count)\n",
      "C:\\Users\\palni\\practicum\\practicum_env\\lib\\site-packages\\catboost\\core.py:1171: FutureWarning: iteritems is deprecated and will be removed in a future version. Use .items instead.\n",
      "  self._init_pool(data, label, cat_features, text_features, embedding_features, pairs, weight, group_id, group_weight, subgroup_id, pairs_weight, baseline, timestamp, feature_names, thread_count)\n",
      "C:\\Users\\palni\\practicum\\practicum_env\\lib\\site-packages\\catboost\\core.py:1171: FutureWarning: iteritems is deprecated and will be removed in a future version. Use .items instead.\n",
      "  self._init_pool(data, label, cat_features, text_features, embedding_features, pairs, weight, group_id, group_weight, subgroup_id, pairs_weight, baseline, timestamp, feature_names, thread_count)\n",
      "C:\\Users\\palni\\practicum\\practicum_env\\lib\\site-packages\\catboost\\core.py:1171: FutureWarning: iteritems is deprecated and will be removed in a future version. Use .items instead.\n",
      "  self._init_pool(data, label, cat_features, text_features, embedding_features, pairs, weight, group_id, group_weight, subgroup_id, pairs_weight, baseline, timestamp, feature_names, thread_count)\n",
      "C:\\Users\\palni\\practicum\\practicum_env\\lib\\site-packages\\catboost\\core.py:1171: FutureWarning: iteritems is deprecated and will be removed in a future version. Use .items instead.\n",
      "  self._init_pool(data, label, cat_features, text_features, embedding_features, pairs, weight, group_id, group_weight, subgroup_id, pairs_weight, baseline, timestamp, feature_names, thread_count)\n"
     ]
    },
    {
     "name": "stdout",
     "output_type": "stream",
     "text": [
      "1:\tlearn: 28.7391043\ttotal: 4.88ms\tremaining: 19.5ms\n",
      "2:\tlearn: 27.5821743\ttotal: 6.96ms\tremaining: 16.3ms\n",
      "3:\tlearn: 26.4116430\ttotal: 9.06ms\tremaining: 13.6ms\n",
      "4:\tlearn: 25.5630021\ttotal: 11ms\tremaining: 11ms\n",
      "5:\tlearn: 24.7591639\ttotal: 13ms\tremaining: 8.66ms\n",
      "6:\tlearn: 24.1125070\ttotal: 15.1ms\tremaining: 6.49ms\n",
      "7:\tlearn: 23.5672730\ttotal: 17.1ms\tremaining: 4.29ms\n",
      "8:\tlearn: 22.9839666\ttotal: 18.9ms\tremaining: 2.1ms\n",
      "9:\tlearn: 22.5728926\ttotal: 20.7ms\tremaining: 0us\n",
      "0:\tlearn: 31.3360270\ttotal: 2.34ms\tremaining: 21.1ms\n",
      "1:\tlearn: 29.8668807\ttotal: 4.47ms\tremaining: 17.9ms\n",
      "2:\tlearn: 28.4744438\ttotal: 6.41ms\tremaining: 14.9ms\n",
      "3:\tlearn: 27.3274867\ttotal: 8.41ms\tremaining: 12.6ms\n",
      "4:\tlearn: 26.3175350\ttotal: 10.4ms\tremaining: 10.4ms\n",
      "5:\tlearn: 25.5021263\ttotal: 12.3ms\tremaining: 8.19ms\n",
      "6:\tlearn: 24.8802698\ttotal: 14.9ms\tremaining: 6.38ms\n",
      "7:\tlearn: 24.3534159\ttotal: 16.9ms\tremaining: 4.24ms\n",
      "8:\tlearn: 23.9168545\ttotal: 19ms\tremaining: 2.11ms\n",
      "9:\tlearn: 23.5443417\ttotal: 21.1ms\tremaining: 0us\n",
      "0:\tlearn: 32.7120487\ttotal: 2.53ms\tremaining: 22.7ms\n",
      "1:\tlearn: 31.1100473\ttotal: 4.79ms\tremaining: 19.1ms\n",
      "2:\tlearn: 29.6708462\ttotal: 6.92ms\tremaining: 16.2ms\n",
      "3:\tlearn: 28.4244108\ttotal: 8.98ms\tremaining: 13.5ms\n",
      "4:\tlearn: 27.3825867\ttotal: 11.2ms\tremaining: 11.2ms\n",
      "5:\tlearn: 26.5804298\ttotal: 13.4ms\tremaining: 8.93ms\n",
      "6:\tlearn: 25.9383929\ttotal: 15.5ms\tremaining: 6.64ms\n",
      "7:\tlearn: 25.3934196\ttotal: 17.6ms\tremaining: 4.41ms\n",
      "8:\tlearn: 24.9119523\ttotal: 19.8ms\tremaining: 2.19ms\n",
      "9:\tlearn: 24.5189583\ttotal: 21.8ms\tremaining: 0us\n",
      "0:\tlearn: 36.1483593\ttotal: 7.75ms\tremaining: 69.7ms\n",
      "1:\tlearn: 34.1759058\ttotal: 10.3ms\tremaining: 41.1ms\n",
      "2:\tlearn: 32.4078531\ttotal: 12.7ms\tremaining: 29.6ms\n",
      "3:\tlearn: 31.0140479\ttotal: 15ms\tremaining: 22.6ms\n",
      "4:\tlearn: 29.8298217\ttotal: 17.3ms\tremaining: 17.3ms\n",
      "5:\tlearn: 28.9375019\ttotal: 19.7ms\tremaining: 13.1ms\n",
      "6:\tlearn: 28.1114379\ttotal: 22ms\tremaining: 9.45ms\n",
      "7:\tlearn: 27.4912271\ttotal: 24.4ms\tremaining: 6.09ms\n",
      "8:\tlearn: 26.9963286\ttotal: 26.7ms\tremaining: 2.97ms\n",
      "9:\tlearn: 26.5215545\ttotal: 29ms\tremaining: 0us\n",
      "best params\n",
      " {'l2_leaf_reg': 5, 'learning_rate': 0.15}\n",
      "best RMSE\n",
      " 29.89900913666646\n"
     ]
    }
   ],
   "source": [
    "param_grid = {'l2_leaf_reg':[5,10,15],\n",
    "              'learning_rate': [0.05,0.1,0.15],\n",
    "              }\n",
    "CatBoost_model = CatBoostRegressor(loss_function=\"RMSE\", iterations=10)\n",
    "\n",
    "tscv = TimeSeriesSplit(n_splits=5) \n",
    "                                  \n",
    "parameters_CatBoost = GridSearchCV(estimator = CatBoost_model,param_grid = param_grid,n_jobs=1,scoring= 'neg_root_mean_squared_error',cv=tscv)\n",
    "\n",
    "parameters_CatBoost.fit(train_features, train_target)\n",
    "print('best params\\n', parameters_CatBoost.best_params_)\n",
    "print('best RMSE\\n', -parameters_CatBoost.best_score_)"
   ]
  },
  {
   "cell_type": "code",
   "execution_count": 22,
   "metadata": {},
   "outputs": [
    {
     "name": "stdout",
     "output_type": "stream",
     "text": [
      "0:\tlearn: 38.1834520\ttotal: 11.8ms\tremaining: 579ms\n",
      "10:\tlearn: 34.3108888\ttotal: 28.9ms\tremaining: 102ms\n",
      "20:\tlearn: 31.5654020\ttotal: 46ms\tremaining: 63.5ms\n",
      "30:\tlearn: 29.6944574\ttotal: 63.5ms\tremaining: 38.9ms\n",
      "40:\tlearn: 28.2922193\ttotal: 80.2ms\tremaining: 17.6ms\n",
      "49:\tlearn: 27.4241459\ttotal: 95ms\tremaining: 0us\n",
      "RMSE обучающей выборки: 27.424145912624603\n"
     ]
    }
   ],
   "source": [
    "CatBoost_model = CatBoostRegressor(l2_leaf_reg=20,n_estimators=50, max_depth=5,loss_function = 'RMSE',eval_metric = 'RMSE')\n",
    "CatBoost_model.fit(train_features, train_target,verbose=10)\n",
    "\n",
    "train_predict=CatBoost_model.predict(train_features)\n",
    "\n",
    "CatBoost_result=mean_squared_error(train_target, train_predict, squared=False)\n",
    "print(\"RMSE обучающей выборки:\", CatBoost_result)"
   ]
  },
  {
   "cell_type": "markdown",
   "metadata": {},
   "source": [
    "### LGBMRegressor"
   ]
  },
  {
   "cell_type": "code",
   "execution_count": 23,
   "metadata": {},
   "outputs": [
    {
     "name": "stdout",
     "output_type": "stream",
     "text": [
      "Fitting 5 folds for each of 9 candidates, totalling 45 fits\n",
      "best params\n",
      " {'learning_rate': 0.15, 'max_depth': 5}\n",
      "best RMSE\n",
      " 25.54790946381748\n"
     ]
    }
   ],
   "source": [
    "param_grid = {'max_depth':[5,10,15],\n",
    "              'learning_rate': [0.05,0.1,0.15],\n",
    "              }\n",
    "LGBM_model = LGBMRegressor()\n",
    "                                  \n",
    "tscv = TimeSeriesSplit(n_splits=5) \n",
    "\n",
    "parameters_LGBM = GridSearchCV(estimator = LGBM_model,param_grid = param_grid,n_jobs=-1,verbose=1,scoring= 'neg_root_mean_squared_error',cv=tscv)\n",
    "\n",
    "parameters_LGBM.fit(train_features, train_target)\n",
    "print('best params\\n', parameters_LGBM.best_params_)\n",
    "print('best RMSE\\n', -parameters_LGBM.best_score_)"
   ]
  },
  {
   "cell_type": "code",
   "execution_count": 24,
   "metadata": {},
   "outputs": [
    {
     "name": "stdout",
     "output_type": "stream",
     "text": [
      "RMSE обучающей выборки: 10.401380345050166\n"
     ]
    }
   ],
   "source": [
    "LGBM_model = LGBMRegressor(num_leaves= 100, learning_rate=0.05, max_depth=15, n_estimators=100)\n",
    "LGBM_model.fit(train_features, train_target, eval_metric='rmse')\n",
    "\n",
    "train_predict=LGBM_model.predict(train_features)\n",
    "\n",
    "LGBM_result=mean_squared_error(train_target, train_predict, squared=False)\n",
    "print(\"RMSE обучающей выборки:\", LGBM_result)"
   ]
  },
  {
   "cell_type": "markdown",
   "metadata": {},
   "source": [
    "**Сравнение**"
   ]
  },
  {
   "cell_type": "code",
   "execution_count": 25,
   "metadata": {},
   "outputs": [
    {
     "data": {
      "text/html": [
       "<div>\n",
       "<style scoped>\n",
       "    .dataframe tbody tr th:only-of-type {\n",
       "        vertical-align: middle;\n",
       "    }\n",
       "\n",
       "    .dataframe tbody tr th {\n",
       "        vertical-align: top;\n",
       "    }\n",
       "\n",
       "    .dataframe thead th {\n",
       "        text-align: right;\n",
       "    }\n",
       "</style>\n",
       "<table border=\"1\" class=\"dataframe\">\n",
       "  <thead>\n",
       "    <tr style=\"text-align: right;\">\n",
       "      <th></th>\n",
       "      <th>Модель</th>\n",
       "      <th>RMSE</th>\n",
       "    </tr>\n",
       "  </thead>\n",
       "  <tbody>\n",
       "    <tr>\n",
       "      <th>0</th>\n",
       "      <td>LinearRegression</td>\n",
       "      <td>25.920718</td>\n",
       "    </tr>\n",
       "    <tr>\n",
       "      <th>1</th>\n",
       "      <td>CatBoost</td>\n",
       "      <td>29.899009</td>\n",
       "    </tr>\n",
       "    <tr>\n",
       "      <th>2</th>\n",
       "      <td>LGBMRegressor</td>\n",
       "      <td>25.547909</td>\n",
       "    </tr>\n",
       "  </tbody>\n",
       "</table>\n",
       "</div>"
      ],
      "text/plain": [
       "             Модель       RMSE\n",
       "0  LinearRegression  25.920718\n",
       "1          CatBoost  29.899009\n",
       "2     LGBMRegressor  25.547909"
      ]
     },
     "metadata": {},
     "output_type": "display_data"
    }
   ],
   "source": [
    "result = {'Модель':['LinearRegression','CatBoost','LGBMRegressor'],\n",
    "          'RMSE':[Linearresult,\n",
    "                  -parameters_CatBoost.best_score_,\n",
    "                  -parameters_LGBM.best_score_\n",
    "                 ],\n",
    "          }\n",
    "\n",
    "result=pd.DataFrame(result)\n",
    "\n",
    "display(result)"
   ]
  },
  {
   "cell_type": "markdown",
   "metadata": {},
   "source": [
    "**Вывод**"
   ]
  },
  {
   "cell_type": "markdown",
   "metadata": {},
   "source": [
    "На обучающих выборках модель LGBMRegressor показала наилучшие результаты, будем использовать ее для финального тестирования"
   ]
  },
  {
   "cell_type": "markdown",
   "metadata": {},
   "source": [
    "## Тестирование"
   ]
  },
  {
   "cell_type": "code",
   "execution_count": 26,
   "metadata": {},
   "outputs": [
    {
     "name": "stdout",
     "output_type": "stream",
     "text": [
      "RMSE обучающей выборки: 42.79706531035531\n"
     ]
    }
   ],
   "source": [
    "test_predict=LGBM_model.predict(test_features)\n",
    "\n",
    "LGBM_result_test=mean_squared_error(test_target, test_predict, squared=False)\n",
    "print(\"RMSE обучающей выборки:\", LGBM_result_test)"
   ]
  },
  {
   "cell_type": "code",
   "execution_count": 27,
   "metadata": {},
   "outputs": [
    {
     "data": {
      "image/png": "[encoded data removed]",
      "text/plain": [
       "<Figure size 1080x360 with 1 Axes>"
      ]
     },
     "metadata": {
      "needs_background": "light"
     },
     "output_type": "display_data"
    }
   ],
   "source": [
    "pd.DataFrame({'Прогнозируемые':test_predict, 'Фактические':test_target})[:140].plot(figsize=(15,5))\n",
    "plt.title('Сравнение прогноз/факт')\n",
    "plt.show()"
   ]
  },
  {
   "cell_type": "markdown",
   "metadata": {},
   "source": [
    "## Вывод"
   ]
  },
  {
   "cell_type": "markdown",
   "metadata": {},
   "source": [
    "- Данные выгружены, ресеплированы, проверена монотонность\n",
    "- Проведен общий анализ, определены суточные и месячные тренды\n",
    "- Созданы новые признаки для обучения моделей, подобраны параметры\n",
    "- Обучены три разрличные модели машинного обучения (LinearRegression, CatBoost, LGBMRegressor), подобраны гиперпараметры\n",
    "- Выбрана наилучая модель (по RMSE) и проведено ее финальное тестирование на тестовой выборке. RMSE не превышает значение, требуемое в условии"
   ]
  },
  {
   "cell_type": "markdown",
   "metadata": {},
   "source": [
    "## Чек-лист проверки"
   ]
  },
  {
   "cell_type": "markdown",
   "metadata": {},
   "source": [
    "- [x]  Jupyter Notebook открыт\n",
    "- [X]  Весь код выполняется без ошибок\n",
    "- [x]  Ячейки с кодом расположены в порядке исполнения\n",
    "- [X]  Данные загружены и подготовлены\n",
    "- [X]  Данные проанализированы\n",
    "- [X]  Модель обучена, гиперпараметры подобраны\n",
    "- [X]  Качество моделей проверено, выводы сделаны\n",
    "- [X]  Значение *RMSE* на тестовой выборке не больше 48"
   ]
  },
  {
   "cell_type": "code",
   "execution_count": null,
   "metadata": {},
   "outputs": [],
   "source": []
  }
 ],
 "metadata": {
  "ExecuteTimeLog": [
   {
    "duration": 1953,
    "start_time": "2023-06-30T10:03:09.499Z"
   },
   {
    "duration": 181,
    "start_time": "2023-06-30T10:03:13.117Z"
   },
   {
    "duration": 19,
    "start_time": "2023-06-30T10:03:14.948Z"
   },
   {
    "duration": 14,
    "start_time": "2023-06-30T10:03:40.336Z"
   },
   {
    "duration": 10,
    "start_time": "2023-06-30T10:04:13.023Z"
   },
   {
    "duration": 10,
    "start_time": "2023-06-30T10:04:41.228Z"
   },
   {
    "duration": 14,
    "start_time": "2023-06-30T10:05:47.947Z"
   },
   {
    "duration": 280,
    "start_time": "2023-06-30T10:06:11.427Z"
   },
   {
    "duration": 265,
    "start_time": "2023-06-30T10:06:23.557Z"
   },
   {
    "duration": 365,
    "start_time": "2023-06-30T10:07:05.868Z"
   },
   {
    "duration": 210,
    "start_time": "2023-06-30T10:19:21.329Z"
   },
   {
    "duration": 26,
    "start_time": "2023-06-30T10:19:31.434Z"
   },
   {
    "duration": 22,
    "start_time": "2023-06-30T10:20:43.006Z"
   },
   {
    "duration": 115,
    "start_time": "2023-06-30T10:20:43.532Z"
   },
   {
    "duration": 35,
    "start_time": "2023-06-30T10:20:44.505Z"
   },
   {
    "duration": 15,
    "start_time": "2023-06-30T10:20:55.012Z"
   },
   {
    "duration": 8,
    "start_time": "2023-06-30T10:20:55.658Z"
   },
   {
    "duration": 12,
    "start_time": "2023-06-30T10:20:56.654Z"
   },
   {
    "duration": 945,
    "start_time": "2023-06-30T10:21:15.610Z"
   },
   {
    "duration": 2533,
    "start_time": "2023-06-30T10:24:49.944Z"
   },
   {
    "duration": 58,
    "start_time": "2023-06-30T10:24:52.483Z"
   },
   {
    "duration": 39,
    "start_time": "2023-06-30T10:24:52.543Z"
   },
   {
    "duration": 44,
    "start_time": "2023-06-30T10:24:52.586Z"
   },
   {
    "duration": 23,
    "start_time": "2023-06-30T10:24:52.632Z"
   },
   {
    "duration": 43,
    "start_time": "2023-06-30T10:24:52.660Z"
   },
   {
    "duration": 1284,
    "start_time": "2023-06-30T10:24:52.712Z"
   },
   {
    "duration": 12,
    "start_time": "2023-06-30T10:24:53.998Z"
   },
   {
    "duration": 0,
    "start_time": "2023-06-30T10:37:00.045Z"
   },
   {
    "duration": 0,
    "start_time": "2023-06-30T10:37:00.051Z"
   },
   {
    "duration": 46,
    "start_time": "2023-06-30T10:37:43.873Z"
   },
   {
    "duration": 100,
    "start_time": "2023-06-30T10:38:05.073Z"
   },
   {
    "duration": 47,
    "start_time": "2023-06-30T10:39:44.529Z"
   },
   {
    "duration": 113,
    "start_time": "2023-06-30T10:39:53.562Z"
   },
   {
    "duration": 30,
    "start_time": "2023-06-30T10:40:02.568Z"
   },
   {
    "duration": 66,
    "start_time": "2023-06-30T10:40:19.917Z"
   },
   {
    "duration": 55,
    "start_time": "2023-06-30T10:40:34.976Z"
   },
   {
    "duration": 12,
    "start_time": "2023-06-30T10:40:46.587Z"
   },
   {
    "duration": 112,
    "start_time": "2023-06-30T10:40:46.917Z"
   },
   {
    "duration": 52,
    "start_time": "2023-06-30T10:40:47.291Z"
   },
   {
    "duration": 35,
    "start_time": "2023-06-30T10:40:48.244Z"
   },
   {
    "duration": 39,
    "start_time": "2023-06-30T10:40:50.961Z"
   },
   {
    "duration": 31,
    "start_time": "2023-06-30T10:40:52.417Z"
   },
   {
    "duration": 1200,
    "start_time": "2023-06-30T10:40:54.916Z"
   },
   {
    "duration": 13,
    "start_time": "2023-06-30T10:40:59.014Z"
   },
   {
    "duration": 3050,
    "start_time": "2023-06-30T10:42:16.081Z"
   },
   {
    "duration": 128,
    "start_time": "2023-06-30T10:42:19.142Z"
   },
   {
    "duration": 24,
    "start_time": "2023-06-30T10:42:19.277Z"
   },
   {
    "duration": 27,
    "start_time": "2023-06-30T10:42:19.317Z"
   },
   {
    "duration": 28,
    "start_time": "2023-06-30T10:42:19.357Z"
   },
   {
    "duration": 46,
    "start_time": "2023-06-30T10:42:19.390Z"
   },
   {
    "duration": 1249,
    "start_time": "2023-06-30T10:42:19.446Z"
   },
   {
    "duration": 9,
    "start_time": "2023-06-30T10:42:20.698Z"
   },
   {
    "duration": 305,
    "start_time": "2023-06-30T10:42:20.710Z"
   },
   {
    "duration": 0,
    "start_time": "2023-06-30T10:42:21.023Z"
   },
   {
    "duration": 0,
    "start_time": "2023-06-30T10:42:21.031Z"
   },
   {
    "duration": 5,
    "start_time": "2023-06-30T10:49:05.010Z"
   },
   {
    "duration": 81,
    "start_time": "2023-06-30T10:49:06.106Z"
   },
   {
    "duration": 28,
    "start_time": "2023-06-30T10:49:08.747Z"
   },
   {
    "duration": 15,
    "start_time": "2023-06-30T10:49:09.755Z"
   },
   {
    "duration": 7,
    "start_time": "2023-06-30T10:49:10.742Z"
   },
   {
    "duration": 27,
    "start_time": "2023-06-30T10:49:11.660Z"
   },
   {
    "duration": 1404,
    "start_time": "2023-06-30T10:49:14.791Z"
   },
   {
    "duration": 18,
    "start_time": "2023-06-30T10:49:19.613Z"
   },
   {
    "duration": 15,
    "start_time": "2023-06-30T10:49:20.834Z"
   },
   {
    "duration": 47,
    "start_time": "2023-06-30T10:50:01.165Z"
   },
   {
    "duration": 3374,
    "start_time": "2023-06-30T10:51:37.389Z"
   },
   {
    "duration": 151,
    "start_time": "2023-06-30T10:51:40.771Z"
   },
   {
    "duration": 364,
    "start_time": "2023-06-30T10:51:42.341Z"
   },
   {
    "duration": 30,
    "start_time": "2023-06-30T10:51:42.721Z"
   },
   {
    "duration": 14,
    "start_time": "2023-06-30T10:51:55.909Z"
   },
   {
    "duration": 65,
    "start_time": "2023-06-30T10:52:03.678Z"
   },
   {
    "duration": 2333,
    "start_time": "2023-06-30T10:52:17.434Z"
   },
   {
    "duration": 88,
    "start_time": "2023-06-30T10:52:19.770Z"
   },
   {
    "duration": 4,
    "start_time": "2023-06-30T10:52:19.860Z"
   },
   {
    "duration": 186,
    "start_time": "2023-06-30T10:52:19.867Z"
   },
   {
    "duration": 0,
    "start_time": "2023-06-30T10:52:20.060Z"
   },
   {
    "duration": 0,
    "start_time": "2023-06-30T10:52:20.066Z"
   },
   {
    "duration": 0,
    "start_time": "2023-06-30T10:52:20.071Z"
   },
   {
    "duration": 0,
    "start_time": "2023-06-30T10:52:20.077Z"
   },
   {
    "duration": 0,
    "start_time": "2023-06-30T10:52:20.082Z"
   },
   {
    "duration": 0,
    "start_time": "2023-06-30T10:52:20.087Z"
   },
   {
    "duration": 0,
    "start_time": "2023-06-30T10:52:20.089Z"
   },
   {
    "duration": 0,
    "start_time": "2023-06-30T10:52:20.092Z"
   },
   {
    "duration": 0,
    "start_time": "2023-06-30T10:52:20.103Z"
   },
   {
    "duration": 148,
    "start_time": "2023-06-30T10:52:36.701Z"
   },
   {
    "duration": 11,
    "start_time": "2023-06-30T10:52:38.822Z"
   },
   {
    "duration": 28,
    "start_time": "2023-06-30T10:52:39.282Z"
   },
   {
    "duration": 10,
    "start_time": "2023-06-30T10:52:55.698Z"
   },
   {
    "duration": 38,
    "start_time": "2023-06-30T10:52:56.689Z"
   },
   {
    "duration": 32,
    "start_time": "2023-06-30T10:53:08.666Z"
   },
   {
    "duration": 26,
    "start_time": "2023-06-30T10:53:09.417Z"
   },
   {
    "duration": 1587,
    "start_time": "2023-06-30T18:53:43.502Z"
   },
   {
    "duration": 116,
    "start_time": "2023-06-30T18:53:46.226Z"
   },
   {
    "duration": 3,
    "start_time": "2023-06-30T18:53:47.306Z"
   },
   {
    "duration": 123,
    "start_time": "2023-06-30T18:53:47.506Z"
   },
   {
    "duration": 8,
    "start_time": "2023-06-30T18:53:47.726Z"
   },
   {
    "duration": 9,
    "start_time": "2023-06-30T18:53:54.286Z"
   },
   {
    "duration": 44,
    "start_time": "2023-06-30T18:54:37.714Z"
   },
   {
    "duration": 9,
    "start_time": "2023-06-30T18:54:38.674Z"
   },
   {
    "duration": 3,
    "start_time": "2023-06-30T18:55:02.786Z"
   },
   {
    "duration": 3,
    "start_time": "2023-06-30T18:55:04.279Z"
   },
   {
    "duration": 1427,
    "start_time": "2023-06-30T18:55:14.506Z"
   },
   {
    "duration": 45,
    "start_time": "2023-06-30T18:55:15.935Z"
   },
   {
    "duration": 3,
    "start_time": "2023-06-30T18:55:15.981Z"
   },
   {
    "duration": 106,
    "start_time": "2023-06-30T18:55:17.487Z"
   },
   {
    "duration": 8,
    "start_time": "2023-06-30T18:55:52.675Z"
   },
   {
    "duration": 8,
    "start_time": "2023-06-30T18:56:00.541Z"
   },
   {
    "duration": 8,
    "start_time": "2023-06-30T18:56:05.866Z"
   },
   {
    "duration": 1322,
    "start_time": "2023-06-30T18:56:22.866Z"
   },
   {
    "duration": 45,
    "start_time": "2023-06-30T18:56:24.190Z"
   },
   {
    "duration": 2,
    "start_time": "2023-06-30T18:56:25.306Z"
   },
   {
    "duration": 3,
    "start_time": "2023-06-30T19:00:48.794Z"
   },
   {
    "duration": 43,
    "start_time": "2023-06-30T19:00:49.385Z"
   },
   {
    "duration": 2,
    "start_time": "2023-06-30T19:00:50.900Z"
   },
   {
    "duration": 112,
    "start_time": "2023-06-30T19:00:51.944Z"
   },
   {
    "duration": 8,
    "start_time": "2023-06-30T19:00:56.699Z"
   },
   {
    "duration": 1372,
    "start_time": "2023-06-30T19:01:27.419Z"
   },
   {
    "duration": 44,
    "start_time": "2023-06-30T19:01:28.793Z"
   },
   {
    "duration": 3,
    "start_time": "2023-06-30T19:01:29.763Z"
   },
   {
    "duration": 3,
    "start_time": "2023-06-30T19:01:31.140Z"
   },
   {
    "duration": 10,
    "start_time": "2023-06-30T19:01:33.059Z"
   },
   {
    "duration": 8,
    "start_time": "2023-06-30T19:01:36.404Z"
   },
   {
    "duration": 4,
    "start_time": "2023-06-30T19:01:37.139Z"
   },
   {
    "duration": 8,
    "start_time": "2023-06-30T19:01:38.151Z"
   },
   {
    "duration": 602,
    "start_time": "2023-06-30T19:01:38.981Z"
   },
   {
    "duration": 9,
    "start_time": "2023-06-30T19:01:42.619Z"
   },
   {
    "duration": 10,
    "start_time": "2023-06-30T19:01:48.130Z"
   },
   {
    "duration": 6,
    "start_time": "2023-06-30T19:02:00.652Z"
   },
   {
    "duration": 214,
    "start_time": "2023-06-30T19:02:04.586Z"
   },
   {
    "duration": 1342,
    "start_time": "2023-06-30T19:03:37.089Z"
   },
   {
    "duration": 48,
    "start_time": "2023-06-30T19:03:38.433Z"
   },
   {
    "duration": 3,
    "start_time": "2023-06-30T19:03:38.483Z"
   },
   {
    "duration": 7,
    "start_time": "2023-06-30T19:03:38.488Z"
   },
   {
    "duration": 11,
    "start_time": "2023-06-30T19:03:38.904Z"
   },
   {
    "duration": 12,
    "start_time": "2023-06-30T19:03:41.340Z"
   },
   {
    "duration": 9,
    "start_time": "2023-06-30T19:03:41.464Z"
   },
   {
    "duration": 5,
    "start_time": "2023-06-30T19:03:41.705Z"
   },
   {
    "duration": 7,
    "start_time": "2023-06-30T19:03:51.924Z"
   },
   {
    "duration": 622,
    "start_time": "2023-06-30T19:03:54.804Z"
   },
   {
    "duration": 8,
    "start_time": "2023-06-30T19:03:57.899Z"
   },
   {
    "duration": 6,
    "start_time": "2023-06-30T19:04:00.503Z"
   },
   {
    "duration": 201,
    "start_time": "2023-06-30T19:04:02.351Z"
   },
   {
    "duration": 9,
    "start_time": "2023-06-30T19:04:25.326Z"
   },
   {
    "duration": 81,
    "start_time": "2023-07-02T08:32:01.887Z"
   },
   {
    "duration": 2344,
    "start_time": "2023-07-02T08:32:32.022Z"
   },
   {
    "duration": 2053,
    "start_time": "2023-07-02T08:32:38.712Z"
   },
   {
    "duration": 208,
    "start_time": "2023-07-02T08:32:40.768Z"
   },
   {
    "duration": 6,
    "start_time": "2023-07-02T08:32:40.979Z"
   },
   {
    "duration": 35,
    "start_time": "2023-07-02T08:32:40.988Z"
   },
   {
    "duration": 74,
    "start_time": "2023-07-02T08:32:41.025Z"
   },
   {
    "duration": 42,
    "start_time": "2023-07-02T08:32:41.101Z"
   },
   {
    "duration": 15,
    "start_time": "2023-07-02T08:32:41.145Z"
   },
   {
    "duration": 58,
    "start_time": "2023-07-02T08:32:41.163Z"
   },
   {
    "duration": 13,
    "start_time": "2023-07-02T08:32:41.223Z"
   },
   {
    "duration": 1010,
    "start_time": "2023-07-02T08:32:41.239Z"
   },
   {
    "duration": 14,
    "start_time": "2023-07-02T08:32:42.262Z"
   },
   {
    "duration": 57,
    "start_time": "2023-07-02T08:32:42.278Z"
   },
   {
    "duration": 14,
    "start_time": "2023-07-02T08:32:42.337Z"
   },
   {
    "duration": 373,
    "start_time": "2023-07-02T08:32:42.354Z"
   },
   {
    "duration": 954,
    "start_time": "2023-07-02T08:32:42.729Z"
   },
   {
    "duration": 7,
    "start_time": "2023-07-02T08:32:43.685Z"
   },
   {
    "duration": 359,
    "start_time": "2023-07-02T08:38:48.789Z"
   },
   {
    "duration": 257,
    "start_time": "2023-07-02T08:38:50.737Z"
   },
   {
    "duration": 1857,
    "start_time": "2023-07-02T08:39:05.444Z"
   },
   {
    "duration": 98,
    "start_time": "2023-07-02T08:40:28.544Z"
   },
   {
    "duration": 97,
    "start_time": "2023-07-02T08:41:21.024Z"
   },
   {
    "duration": 160,
    "start_time": "2023-07-02T08:41:57.344Z"
   },
   {
    "duration": 88,
    "start_time": "2023-07-02T08:42:53.071Z"
   },
   {
    "duration": 192,
    "start_time": "2023-07-02T08:45:59.998Z"
   },
   {
    "duration": 21,
    "start_time": "2023-07-02T08:46:12.182Z"
   },
   {
    "duration": 119,
    "start_time": "2023-07-02T08:46:50.497Z"
   },
   {
    "duration": 31,
    "start_time": "2023-07-02T08:46:55.279Z"
   },
   {
    "duration": 1752,
    "start_time": "2023-07-02T08:47:03.451Z"
   },
   {
    "duration": 66,
    "start_time": "2023-07-02T08:47:05.205Z"
   },
   {
    "duration": 11,
    "start_time": "2023-07-02T08:47:05.277Z"
   },
   {
    "duration": 23,
    "start_time": "2023-07-02T08:47:05.298Z"
   },
   {
    "duration": 35,
    "start_time": "2023-07-02T08:47:05.323Z"
   },
   {
    "duration": 61,
    "start_time": "2023-07-02T08:47:05.360Z"
   },
   {
    "duration": 18,
    "start_time": "2023-07-02T08:47:05.423Z"
   },
   {
    "duration": 6,
    "start_time": "2023-07-02T08:47:05.444Z"
   },
   {
    "duration": 55,
    "start_time": "2023-07-02T08:47:05.454Z"
   },
   {
    "duration": 937,
    "start_time": "2023-07-02T08:47:05.512Z"
   },
   {
    "duration": 20,
    "start_time": "2023-07-02T08:47:06.451Z"
   },
   {
    "duration": 38,
    "start_time": "2023-07-02T08:47:06.473Z"
   },
   {
    "duration": 14,
    "start_time": "2023-07-02T08:47:06.513Z"
   },
   {
    "duration": 268,
    "start_time": "2023-07-02T08:47:06.529Z"
   },
   {
    "duration": 957,
    "start_time": "2023-07-02T08:47:06.799Z"
   },
   {
    "duration": 420,
    "start_time": "2023-07-02T08:47:07.758Z"
   },
   {
    "duration": 186,
    "start_time": "2023-07-02T08:47:08.185Z"
   },
   {
    "duration": 44,
    "start_time": "2023-07-02T08:47:08.377Z"
   },
   {
    "duration": 1547,
    "start_time": "2023-07-02T11:09:05.319Z"
   },
   {
    "duration": 55,
    "start_time": "2023-07-02T11:09:06.869Z"
   },
   {
    "duration": 4,
    "start_time": "2023-07-02T11:09:06.926Z"
   },
   {
    "duration": 7,
    "start_time": "2023-07-02T11:09:06.932Z"
   },
   {
    "duration": 23,
    "start_time": "2023-07-02T11:09:06.941Z"
   },
   {
    "duration": 13,
    "start_time": "2023-07-02T11:09:06.967Z"
   },
   {
    "duration": 10,
    "start_time": "2023-07-02T11:09:06.983Z"
   },
   {
    "duration": 8,
    "start_time": "2023-07-02T11:09:06.995Z"
   },
   {
    "duration": 29,
    "start_time": "2023-07-02T11:09:07.005Z"
   },
   {
    "duration": 831,
    "start_time": "2023-07-02T11:09:07.037Z"
   },
   {
    "duration": 8,
    "start_time": "2023-07-02T11:09:07.870Z"
   },
   {
    "duration": 15,
    "start_time": "2023-07-02T11:09:07.880Z"
   },
   {
    "duration": 11,
    "start_time": "2023-07-02T11:09:07.896Z"
   },
   {
    "duration": 276,
    "start_time": "2023-07-02T11:09:07.909Z"
   },
   {
    "duration": 856,
    "start_time": "2023-07-02T11:09:08.187Z"
   },
   {
    "duration": 268,
    "start_time": "2023-07-02T11:09:09.045Z"
   },
   {
    "duration": 115,
    "start_time": "2023-07-02T11:09:09.315Z"
   },
   {
    "duration": 32,
    "start_time": "2023-07-02T11:09:09.432Z"
   },
   {
    "duration": 115,
    "start_time": "2023-07-02T11:13:15.165Z"
   },
   {
    "duration": 108,
    "start_time": "2023-07-02T11:13:21.718Z"
   },
   {
    "duration": 1818,
    "start_time": "2023-07-02T11:42:59.600Z"
   },
   {
    "duration": 59,
    "start_time": "2023-07-02T11:43:01.421Z"
   },
   {
    "duration": 18,
    "start_time": "2023-07-02T11:43:01.482Z"
   },
   {
    "duration": 42,
    "start_time": "2023-07-02T11:43:01.503Z"
   },
   {
    "duration": 108,
    "start_time": "2023-07-02T11:43:01.551Z"
   },
   {
    "duration": 32,
    "start_time": "2023-07-02T11:43:01.664Z"
   },
   {
    "duration": 37,
    "start_time": "2023-07-02T11:43:01.698Z"
   },
   {
    "duration": 45,
    "start_time": "2023-07-02T11:43:01.737Z"
   },
   {
    "duration": 204,
    "start_time": "2023-07-02T11:43:01.784Z"
   },
   {
    "duration": 889,
    "start_time": "2023-07-02T11:43:01.991Z"
   },
   {
    "duration": 9,
    "start_time": "2023-07-02T11:43:02.882Z"
   },
   {
    "duration": 113,
    "start_time": "2023-07-02T11:43:02.892Z"
   },
   {
    "duration": 13,
    "start_time": "2023-07-02T11:43:03.007Z"
   },
   {
    "duration": 246,
    "start_time": "2023-07-02T11:43:03.022Z"
   },
   {
    "duration": 795,
    "start_time": "2023-07-02T11:43:03.270Z"
   },
   {
    "duration": 257,
    "start_time": "2023-07-02T11:43:04.071Z"
   },
   {
    "duration": 72,
    "start_time": "2023-07-02T11:43:04.330Z"
   },
   {
    "duration": 249,
    "start_time": "2023-07-02T11:43:04.404Z"
   },
   {
    "duration": 1737,
    "start_time": "2023-07-02T11:44:28.520Z"
   },
   {
    "duration": 62,
    "start_time": "2023-07-02T11:44:30.261Z"
   },
   {
    "duration": 4,
    "start_time": "2023-07-02T11:44:30.325Z"
   },
   {
    "duration": 50,
    "start_time": "2023-07-02T11:44:30.331Z"
   },
   {
    "duration": 81,
    "start_time": "2023-07-02T11:44:30.384Z"
   },
   {
    "duration": 83,
    "start_time": "2023-07-02T11:44:30.472Z"
   },
   {
    "duration": 53,
    "start_time": "2023-07-02T11:44:30.557Z"
   },
   {
    "duration": 33,
    "start_time": "2023-07-02T11:44:30.612Z"
   },
   {
    "duration": 98,
    "start_time": "2023-07-02T11:44:30.647Z"
   },
   {
    "duration": 957,
    "start_time": "2023-07-02T11:44:30.747Z"
   },
   {
    "duration": 10,
    "start_time": "2023-07-02T11:44:31.707Z"
   },
   {
    "duration": 64,
    "start_time": "2023-07-02T11:44:31.719Z"
   },
   {
    "duration": 14,
    "start_time": "2023-07-02T11:44:31.786Z"
   },
   {
    "duration": 278,
    "start_time": "2023-07-02T11:44:31.805Z"
   },
   {
    "duration": 987,
    "start_time": "2023-07-02T11:44:32.085Z"
   },
   {
    "duration": 348,
    "start_time": "2023-07-02T11:44:33.074Z"
   },
   {
    "duration": 45,
    "start_time": "2023-07-02T11:44:33.424Z"
   },
   {
    "duration": 88,
    "start_time": "2023-07-02T11:44:33.471Z"
   },
   {
    "duration": 963,
    "start_time": "2023-07-02T11:46:11.531Z"
   },
   {
    "duration": 1658,
    "start_time": "2023-07-02T11:51:34.512Z"
   },
   {
    "duration": 51,
    "start_time": "2023-07-02T11:51:36.172Z"
   },
   {
    "duration": 4,
    "start_time": "2023-07-02T11:51:36.225Z"
   },
   {
    "duration": 42,
    "start_time": "2023-07-02T11:51:36.230Z"
   },
   {
    "duration": 17,
    "start_time": "2023-07-02T11:51:36.277Z"
   },
   {
    "duration": 12,
    "start_time": "2023-07-02T11:51:36.296Z"
   },
   {
    "duration": 10,
    "start_time": "2023-07-02T11:51:36.311Z"
   },
   {
    "duration": 6,
    "start_time": "2023-07-02T11:51:36.323Z"
   },
   {
    "duration": 23,
    "start_time": "2023-07-02T11:51:36.331Z"
   },
   {
    "duration": 820,
    "start_time": "2023-07-02T11:51:36.356Z"
   },
   {
    "duration": 9,
    "start_time": "2023-07-02T11:51:37.178Z"
   },
   {
    "duration": 15,
    "start_time": "2023-07-02T11:51:37.189Z"
   },
   {
    "duration": 20,
    "start_time": "2023-07-02T11:51:37.206Z"
   },
   {
    "duration": 266,
    "start_time": "2023-07-02T11:51:37.229Z"
   },
   {
    "duration": 846,
    "start_time": "2023-07-02T11:51:37.497Z"
   },
   {
    "duration": 354,
    "start_time": "2023-07-02T11:51:38.345Z"
   },
   {
    "duration": 24,
    "start_time": "2023-07-02T11:51:38.700Z"
   },
   {
    "duration": 49,
    "start_time": "2023-07-02T11:51:38.726Z"
   },
   {
    "duration": 948,
    "start_time": "2023-07-02T11:51:38.780Z"
   },
   {
    "duration": 1622,
    "start_time": "2023-07-02T11:55:27.770Z"
   },
   {
    "duration": 52,
    "start_time": "2023-07-02T11:55:29.394Z"
   },
   {
    "duration": 12,
    "start_time": "2023-07-02T11:55:29.448Z"
   },
   {
    "duration": 48,
    "start_time": "2023-07-02T11:55:29.469Z"
   },
   {
    "duration": 67,
    "start_time": "2023-07-02T11:55:29.520Z"
   },
   {
    "duration": 39,
    "start_time": "2023-07-02T11:55:29.588Z"
   },
   {
    "duration": 39,
    "start_time": "2023-07-02T11:55:29.629Z"
   },
   {
    "duration": 6,
    "start_time": "2023-07-02T11:55:29.671Z"
   },
   {
    "duration": 22,
    "start_time": "2023-07-02T11:55:29.679Z"
   },
   {
    "duration": 893,
    "start_time": "2023-07-02T11:55:29.703Z"
   },
   {
    "duration": 9,
    "start_time": "2023-07-02T11:55:30.598Z"
   },
   {
    "duration": 53,
    "start_time": "2023-07-02T11:55:30.608Z"
   },
   {
    "duration": 51,
    "start_time": "2023-07-02T11:55:30.662Z"
   },
   {
    "duration": 296,
    "start_time": "2023-07-02T11:55:30.716Z"
   },
   {
    "duration": 907,
    "start_time": "2023-07-02T11:55:31.015Z"
   },
   {
    "duration": 292,
    "start_time": "2023-07-02T11:55:31.925Z"
   },
   {
    "duration": 52,
    "start_time": "2023-07-02T11:55:32.220Z"
   },
   {
    "duration": 85,
    "start_time": "2023-07-02T11:55:32.274Z"
   },
   {
    "duration": 906,
    "start_time": "2023-07-02T11:55:32.361Z"
   },
   {
    "duration": 1584,
    "start_time": "2023-07-02T11:58:07.290Z"
   },
   {
    "duration": 49,
    "start_time": "2023-07-02T11:58:08.876Z"
   },
   {
    "duration": 5,
    "start_time": "2023-07-02T11:58:08.927Z"
   },
   {
    "duration": 12,
    "start_time": "2023-07-02T11:58:08.934Z"
   },
   {
    "duration": 25,
    "start_time": "2023-07-02T11:58:08.948Z"
   },
   {
    "duration": 11,
    "start_time": "2023-07-02T11:58:08.975Z"
   },
   {
    "duration": 9,
    "start_time": "2023-07-02T11:58:08.988Z"
   },
   {
    "duration": 8,
    "start_time": "2023-07-02T11:58:08.998Z"
   },
   {
    "duration": 21,
    "start_time": "2023-07-02T11:58:09.008Z"
   },
   {
    "duration": 790,
    "start_time": "2023-07-02T11:58:09.031Z"
   },
   {
    "duration": 9,
    "start_time": "2023-07-02T11:58:09.822Z"
   },
   {
    "duration": 25,
    "start_time": "2023-07-02T11:58:09.832Z"
   },
   {
    "duration": 23,
    "start_time": "2023-07-02T11:58:09.859Z"
   },
   {
    "duration": 226,
    "start_time": "2023-07-02T11:58:09.884Z"
   },
   {
    "duration": 788,
    "start_time": "2023-07-02T11:58:10.111Z"
   },
   {
    "duration": 268,
    "start_time": "2023-07-02T11:58:10.901Z"
   },
   {
    "duration": 23,
    "start_time": "2023-07-02T11:58:11.171Z"
   },
   {
    "duration": 10,
    "start_time": "2023-07-02T11:58:11.196Z"
   },
   {
    "duration": 150,
    "start_time": "2023-07-02T11:58:11.208Z"
   },
   {
    "duration": 700,
    "start_time": "2023-07-02T11:58:11.361Z"
   },
   {
    "duration": 1681,
    "start_time": "2023-07-03T18:07:03.943Z"
   },
   {
    "duration": 328,
    "start_time": "2023-07-03T18:07:05.626Z"
   },
   {
    "duration": 11,
    "start_time": "2023-07-03T18:07:05.956Z"
   },
   {
    "duration": 23,
    "start_time": "2023-07-03T18:07:05.972Z"
   },
   {
    "duration": 30,
    "start_time": "2023-07-03T18:07:05.997Z"
   },
   {
    "duration": 28,
    "start_time": "2023-07-03T18:07:06.029Z"
   },
   {
    "duration": 22,
    "start_time": "2023-07-03T18:07:06.058Z"
   },
   {
    "duration": 34,
    "start_time": "2023-07-03T18:07:06.082Z"
   },
   {
    "duration": 116,
    "start_time": "2023-07-03T18:07:06.118Z"
   },
   {
    "duration": 0,
    "start_time": "2023-07-03T18:07:06.236Z"
   },
   {
    "duration": 0,
    "start_time": "2023-07-03T18:07:06.237Z"
   },
   {
    "duration": 0,
    "start_time": "2023-07-03T18:07:06.238Z"
   },
   {
    "duration": 0,
    "start_time": "2023-07-03T18:07:06.239Z"
   },
   {
    "duration": 0,
    "start_time": "2023-07-03T18:07:06.240Z"
   },
   {
    "duration": 0,
    "start_time": "2023-07-03T18:07:06.241Z"
   },
   {
    "duration": 0,
    "start_time": "2023-07-03T18:07:06.242Z"
   },
   {
    "duration": 0,
    "start_time": "2023-07-03T18:07:06.243Z"
   },
   {
    "duration": 0,
    "start_time": "2023-07-03T18:07:06.260Z"
   },
   {
    "duration": 0,
    "start_time": "2023-07-03T18:07:06.261Z"
   },
   {
    "duration": 0,
    "start_time": "2023-07-03T18:07:06.262Z"
   },
   {
    "duration": 0,
    "start_time": "2023-07-03T18:07:06.263Z"
   },
   {
    "duration": 0,
    "start_time": "2023-07-03T18:07:06.263Z"
   },
   {
    "duration": 0,
    "start_time": "2023-07-03T18:07:06.264Z"
   },
   {
    "duration": 0,
    "start_time": "2023-07-03T18:07:06.265Z"
   },
   {
    "duration": 0,
    "start_time": "2023-07-03T18:07:06.266Z"
   },
   {
    "duration": 13,
    "start_time": "2023-07-03T18:11:40.101Z"
   },
   {
    "duration": 6,
    "start_time": "2023-07-03T18:12:06.350Z"
   },
   {
    "duration": 11,
    "start_time": "2023-07-03T18:12:22.761Z"
   },
   {
    "duration": 7,
    "start_time": "2023-07-03T18:12:28.248Z"
   },
   {
    "duration": 1436,
    "start_time": "2023-07-03T18:12:34.797Z"
   },
   {
    "duration": 58,
    "start_time": "2023-07-03T18:12:36.236Z"
   },
   {
    "duration": 2,
    "start_time": "2023-07-03T18:12:36.296Z"
   },
   {
    "duration": 6,
    "start_time": "2023-07-03T18:12:36.300Z"
   },
   {
    "duration": 5,
    "start_time": "2023-07-03T18:12:36.308Z"
   },
   {
    "duration": 15,
    "start_time": "2023-07-03T18:12:36.314Z"
   },
   {
    "duration": 9,
    "start_time": "2023-07-03T18:12:36.331Z"
   },
   {
    "duration": 18,
    "start_time": "2023-07-03T18:12:36.342Z"
   },
   {
    "duration": 10,
    "start_time": "2023-07-03T18:12:36.365Z"
   },
   {
    "duration": 8,
    "start_time": "2023-07-03T18:12:36.378Z"
   },
   {
    "duration": 760,
    "start_time": "2023-07-03T18:12:36.388Z"
   },
   {
    "duration": 22,
    "start_time": "2023-07-03T18:12:37.150Z"
   },
   {
    "duration": 10,
    "start_time": "2023-07-03T18:12:37.176Z"
   },
   {
    "duration": 10,
    "start_time": "2023-07-03T18:12:37.188Z"
   },
   {
    "duration": 213,
    "start_time": "2023-07-03T18:12:37.200Z"
   },
   {
    "duration": 778,
    "start_time": "2023-07-03T18:12:37.415Z"
   },
   {
    "duration": 243,
    "start_time": "2023-07-03T18:12:38.195Z"
   },
   {
    "duration": 56,
    "start_time": "2023-07-03T18:12:38.439Z"
   },
   {
    "duration": 16,
    "start_time": "2023-07-03T18:12:38.496Z"
   },
   {
    "duration": 148,
    "start_time": "2023-07-03T18:12:38.513Z"
   },
   {
    "duration": 900,
    "start_time": "2023-07-03T18:12:38.662Z"
   },
   {
    "duration": 114,
    "start_time": "2023-07-03T18:12:39.571Z"
   },
   {
    "duration": 0,
    "start_time": "2023-07-03T18:12:39.687Z"
   },
   {
    "duration": 0,
    "start_time": "2023-07-03T18:12:39.688Z"
   },
   {
    "duration": 0,
    "start_time": "2023-07-03T18:12:39.689Z"
   }
  ],
  "kernelspec": {
   "display_name": "Python 3 (ipykernel)",
   "language": "python",
   "name": "python3"
  },
  "language_info": {
   "codemirror_mode": {
    "name": "ipython",
    "version": 3
   },
   "file_extension": ".py",
   "mimetype": "text/x-python",
   "name": "python",
   "nbconvert_exporter": "python",
   "pygments_lexer": "ipython3",
   "version": "3.9.5"
  },
  "toc": {
   "base_numbering": 1,
   "nav_menu": {},
   "number_sections": true,
   "sideBar": true,
   "skip_h1_title": true,
   "title_cell": "Содержание",
   "title_sidebar": "Contents",
   "toc_cell": true,
   "toc_position": {
    "height": "calc(100% - 180px)",
    "left": "10px",
    "top": "150px",
    "width": "165px"
   },
   "toc_section_display": true,
   "toc_window_display": true
  }
 },
 "nbformat": 4,
 "nbformat_minor": 4
}
